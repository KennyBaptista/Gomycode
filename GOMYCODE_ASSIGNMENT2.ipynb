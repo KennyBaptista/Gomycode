{
  "nbformat": 4,
  "nbformat_minor": 0,
  "metadata": {
    "colab": {
      "provenance": [],
      "collapsed_sections": [],
      "authorship_tag": "ABX9TyOO9c408Vd99PRS72lkTVHJ",
      "include_colab_link": true
    },
    "kernelspec": {
      "name": "python3",
      "display_name": "Python 3"
    },
    "language_info": {
      "name": "python"
    }
  },
  "cells": [
    {
      "cell_type": "markdown",
      "metadata": {
        "id": "view-in-github",
        "colab_type": "text"
      },
      "source": [
        "<a href=\"https://colab.research.google.com/github/KennyBaptista/Gomycode/blob/main/GOMYCODE_ASSIGNMENT2.ipynb\" target=\"_parent\"><img src=\"https://colab.research.google.com/assets/colab-badge.svg\" alt=\"Open In Colab\"/></a>"
      ]
    },
    {
      "cell_type": "code",
      "execution_count": null,
      "metadata": {
        "id": "1eaMQtJWs37X"
      },
      "outputs": [],
      "source": []
    },
    {
      "cell_type": "markdown",
      "source": [
        "##Write a program that will find all numbers which are divisible by 7 but are not a multiple of 5, between 2000 and 3200 (both included). The numbers obtained should be printed in a list.\n",
        "\n",
        "Hint: Consider using the range(#begin, #end) method."
      ],
      "metadata": {
        "id": "UqEKC4KHs5Jq"
      }
    },
    {
      "cell_type": "code",
      "source": [
        "tailer = range(2000,3200)\n",
        "num_one = []\n",
        "for num in tailer:\n",
        "  if num % 7==0 and num*5 != 0:\n",
        "    num_one.append(num)\n"
      ],
      "metadata": {
        "id": "3NRllTAltI3E"
      },
      "execution_count": 10,
      "outputs": []
    },
    {
      "cell_type": "code",
      "source": [
        "print(num_one)"
      ],
      "metadata": {
        "id": "tPrkB8hLtKRZ",
        "colab": {
          "base_uri": "https://localhost:8080/"
        },
        "outputId": "5e9474fc-4273-4de2-8b52-142833decba9"
      },
      "execution_count": 11,
      "outputs": [
        {
          "output_type": "stream",
          "name": "stdout",
          "text": [
            "[2002, 2009, 2016, 2023, 2030, 2037, 2044, 2051, 2058, 2065, 2072, 2079, 2086, 2093, 2100, 2107, 2114, 2121, 2128, 2135, 2142, 2149, 2156, 2163, 2170, 2177, 2184, 2191, 2198, 2205, 2212, 2219, 2226, 2233, 2240, 2247, 2254, 2261, 2268, 2275, 2282, 2289, 2296, 2303, 2310, 2317, 2324, 2331, 2338, 2345, 2352, 2359, 2366, 2373, 2380, 2387, 2394, 2401, 2408, 2415, 2422, 2429, 2436, 2443, 2450, 2457, 2464, 2471, 2478, 2485, 2492, 2499, 2506, 2513, 2520, 2527, 2534, 2541, 2548, 2555, 2562, 2569, 2576, 2583, 2590, 2597, 2604, 2611, 2618, 2625, 2632, 2639, 2646, 2653, 2660, 2667, 2674, 2681, 2688, 2695, 2702, 2709, 2716, 2723, 2730, 2737, 2744, 2751, 2758, 2765, 2772, 2779, 2786, 2793, 2800, 2807, 2814, 2821, 2828, 2835, 2842, 2849, 2856, 2863, 2870, 2877, 2884, 2891, 2898, 2905, 2912, 2919, 2926, 2933, 2940, 2947, 2954, 2961, 2968, 2975, 2982, 2989, 2996, 3003, 3010, 3017, 3024, 3031, 3038, 3045, 3052, 3059, 3066, 3073, 3080, 3087, 3094, 3101, 3108, 3115, 3122, 3129, 3136, 3143, 3150, 3157, 3164, 3171, 3178, 3185, 3192, 3199]\n"
          ]
        }
      ]
    },
    {
      "cell_type": "markdown",
      "source": [
        "##Write a program that can compute the factorial of a given number. (The factorial of n is the product of all positive integers less than or equal to n.) For example: For factorial(5)= 5 x 4 x 3 x 2 x 1 the result is 120 (i.e. factorial (0)=1)."
      ],
      "metadata": {
        "id": "ttNrd-uytOiI"
      }
    },
    {
      "cell_type": "code",
      "source": [
        "def factorial(x):\n",
        "  if x< 1:\n",
        "    print (\"impossible\")\n",
        "\n",
        "  elif x==1:\n",
        "    return 1\n",
        "  else:\n",
        "    print (x* factorial (x-1))"
      ],
      "metadata": {
        "id": "y70b90k1tTj9"
      },
      "execution_count": 24,
      "outputs": []
    },
    {
      "cell_type": "code",
      "source": [
        "factorial (2)"
      ],
      "metadata": {
        "colab": {
          "base_uri": "https://localhost:8080/"
        },
        "id": "CShMEeiLJQ1V",
        "outputId": "0df3ff87-6a15-4674-9bde-92c4f9a434c0"
      },
      "execution_count": 48,
      "outputs": [
        {
          "output_type": "stream",
          "name": "stdout",
          "text": [
            "2\n"
          ]
        }
      ]
    },
    {
      "cell_type": "markdown",
      "source": [
        "##With a given integer number n, write a program to generate a dictionary that contains (i, i*i) such that is an integral number between 1 and n (both included). Then, the program should print the dictionary. Suppose the following input is supplied to the program: 8 Then, the output should be: {1: 1, 2: 4, 3: 9, 4: 16, 5: 25, 6: 36, 7: 49, 8: 64}  "
      ],
      "metadata": {
        "id": "222HxyeztZ7X"
      }
    },
    {
      "cell_type": "code",
      "source": [
        "def sqr (a,b):\n",
        "  dic = {}\n",
        "  for i in range (a,b):\n",
        "    dic.update ({i:i*i})\n",
        "    print (dic)"
      ],
      "metadata": {
        "id": "_VoNABBetdqI"
      },
      "execution_count": 32,
      "outputs": []
    },
    {
      "cell_type": "code",
      "source": [
        "sqr (1,5)"
      ],
      "metadata": {
        "id": "VUCybWglth_E",
        "colab": {
          "base_uri": "https://localhost:8080/"
        },
        "outputId": "649441f3-115b-4953-a1b4-50eb07bdba5e"
      },
      "execution_count": 33,
      "outputs": [
        {
          "output_type": "stream",
          "name": "stdout",
          "text": [
            "{1: 1}\n",
            "{1: 1, 2: 4}\n",
            "{1: 1, 2: 4, 3: 9}\n",
            "{1: 1, 2: 4, 3: 9, 4: 16}\n"
          ]
        }
      ]
    },
    {
      "cell_type": "markdown",
      "source": [
        "##Given a non-empty string and an integral n, return a new string where the char at index n has been removed. The value of n will be a valid index of a char in the original string (i.e. n will be in the range 0..len(str)-1 inclusive). \n",
        "\n",
        "missing_char('kitten', 1) → 'ktten'    for example here we remove \"i\" which is located in the index 1\n",
        "\n",
        "missing_char('kitten', 0) → 'itten'   here we remove \"k\" which is in the index 0\n",
        "\n",
        "missing_char('kitten', 4) → 'kittn'   here we remove \"e\" which is in the index 4"
      ],
      "metadata": {
        "id": "EcN0e2HltptL"
      }
    },
    {
      "cell_type": "code",
      "source": [],
      "metadata": {
        "id": "iG8Yty6Etvpw"
      },
      "execution_count": null,
      "outputs": []
    },
    {
      "cell_type": "code",
      "source": [
        "def flow(str,n):\n",
        "  return str[:n] + str[n+1:]"
      ],
      "metadata": {
        "id": "pgJrMbC1txEN"
      },
      "execution_count": 34,
      "outputs": []
    },
    {
      "cell_type": "code",
      "source": [
        "flow(\"flowing\",3 )"
      ],
      "metadata": {
        "colab": {
          "base_uri": "https://localhost:8080/",
          "height": 35
        },
        "id": "gF-vzVv1MGT1",
        "outputId": "e7c884cd-b88e-4b3f-fba7-fe700da6bd52"
      },
      "execution_count": 35,
      "outputs": [
        {
          "output_type": "execute_result",
          "data": {
            "text/plain": [
              "'floing'"
            ],
            "application/vnd.google.colaboratory.intrinsic+json": {
              "type": "string"
            }
          },
          "metadata": {},
          "execution_count": 35
        }
      ]
    },
    {
      "cell_type": "code",
      "source": [
        "flow(\"flowing\", 1)\n"
      ],
      "metadata": {
        "colab": {
          "base_uri": "https://localhost:8080/",
          "height": 35
        },
        "id": "GwC72LjEMeWa",
        "outputId": "6538b0ec-d33c-4be3-e8a6-6114795a9f0e"
      },
      "execution_count": 36,
      "outputs": [
        {
          "output_type": "execute_result",
          "data": {
            "text/plain": [
              "'fowing'"
            ],
            "application/vnd.google.colaboratory.intrinsic+json": {
              "type": "string"
            }
          },
          "metadata": {},
          "execution_count": 36
        }
      ]
    },
    {
      "cell_type": "markdown",
      "source": [
        "##Write a NumPy program to convert a NumPy array into a Python list structure.\n",
        "\n",
        "Expected output: \n",
        "\n",
        "Original array elements: [[0 1] [2 3] [4 5]] \n",
        "\n",
        "Array to list: [[0, 1], [2, 3], [4, 5]] \n",
        " \n",
        "\n",
        "Hint: We can use the to_list() function to ensure the conversion."
      ],
      "metadata": {
        "id": "hLsUt6hHt1gb"
      }
    },
    {
      "cell_type": "code",
      "source": [
        "import numpy as np\n",
        "x= np.array([[0,1], [2,3], [4,5]])"
      ],
      "metadata": {
        "id": "hyPPJhtXt3Xf"
      },
      "execution_count": 37,
      "outputs": []
    },
    {
      "cell_type": "code",
      "source": [
        "y= x.tolist()"
      ],
      "metadata": {
        "id": "QxOeTlU0t5Il"
      },
      "execution_count": 38,
      "outputs": []
    },
    {
      "cell_type": "code",
      "source": [
        "y"
      ],
      "metadata": {
        "colab": {
          "base_uri": "https://localhost:8080/"
        },
        "id": "Fr74sfTdNeHI",
        "outputId": "f80ef02e-f43a-42dd-cebb-8eef9644d00c"
      },
      "execution_count": 39,
      "outputs": [
        {
          "output_type": "execute_result",
          "data": {
            "text/plain": [
              "[[0, 1], [2, 3], [4, 5]]"
            ]
          },
          "metadata": {},
          "execution_count": 39
        }
      ]
    },
    {
      "cell_type": "markdown",
      "source": [
        "##Write a NumPy program to compute the covariance matrix of two given arrays. \n",
        "\n",
        "Original array1: [0 1 2] \n",
        "\n",
        "Original array2: [2 1 0] \n",
        "\n",
        "Covariance matrix of the said arrays: [[ 1. -1.] [-1. 1.]]\n",
        " \n",
        "\n",
        "Hint: We can use the np.cov() function to calculate the covariance between these two arrays"
      ],
      "metadata": {
        "id": "KNVPKgOgt9Uz"
      }
    },
    {
      "cell_type": "code",
      "source": [],
      "metadata": {
        "id": "l8rqJ01mPru3"
      },
      "execution_count": null,
      "outputs": []
    },
    {
      "cell_type": "code",
      "source": [
        "x= np.array([0,1,2])"
      ],
      "metadata": {
        "id": "iIPmxgi9t_6l"
      },
      "execution_count": 40,
      "outputs": []
    },
    {
      "cell_type": "code",
      "source": [
        "x"
      ],
      "metadata": {
        "id": "-Z1hOfu8uBcS",
        "colab": {
          "base_uri": "https://localhost:8080/"
        },
        "outputId": "ccec9916-e795-4cd6-9860-39e8d4e4ef5a"
      },
      "execution_count": 41,
      "outputs": [
        {
          "output_type": "execute_result",
          "data": {
            "text/plain": [
              "array([0, 1, 2])"
            ]
          },
          "metadata": {},
          "execution_count": 41
        }
      ]
    },
    {
      "cell_type": "code",
      "source": [
        "y=np.array([2, 1, 0])"
      ],
      "metadata": {
        "id": "-nxg968uP_Qn"
      },
      "execution_count": 42,
      "outputs": []
    },
    {
      "cell_type": "code",
      "source": [
        "y"
      ],
      "metadata": {
        "colab": {
          "base_uri": "https://localhost:8080/"
        },
        "id": "yPkLDUICQIJX",
        "outputId": "84bc9322-eb36-4f8c-e7e8-ed3519650299"
      },
      "execution_count": 43,
      "outputs": [
        {
          "output_type": "execute_result",
          "data": {
            "text/plain": [
              "array([2, 1, 0])"
            ]
          },
          "metadata": {},
          "execution_count": 43
        }
      ]
    },
    {
      "cell_type": "code",
      "source": [
        "print(\"nCovariance matrix:\\n\", np.cov (x,y))"
      ],
      "metadata": {
        "colab": {
          "base_uri": "https://localhost:8080/"
        },
        "id": "VO8w-ThaQMFZ",
        "outputId": "4e796639-c11d-4af9-ac32-5e077978c3c2"
      },
      "execution_count": 44,
      "outputs": [
        {
          "output_type": "stream",
          "name": "stdout",
          "text": [
            "nCovariance matrix:\n",
            " [[ 1. -1.]\n",
            " [-1.  1.]]\n"
          ]
        }
      ]
    },
    {
      "cell_type": "markdown",
      "source": [
        "##Question: Write a program that calculates and prints the value according to the given formula: Q= Square root of [(2 * C * D)/H] \n",
        "\n",
        "The following are the fixed values of C and H: C is 50. H is 30. \n",
        "\n",
        "D is the variable whose values should be input into your program in a comma-separated sequence. (That means D contains more than value)\n",
        "\n",
        "Example: Let's assume the following comma-separated input sequence is given to the program: 100,150,180 The output of the program should be 18,22,24 \n",
        "\n",
        "To further explain this, we will obtain a result for each value of D:  Q1= Square root of [(2 * C * 100)/H] =18, Q2= Square root of [(2 * C * 150)/H] = 22 and Q3 = Square root of [(2 * C * 180)/H]  = 24\n",
        "\n",
        "Hint: If the output received is in decimal form, it should be rounded off to its nearest value. For example, if the output received is 26.0, it should be printed as 26. In case of input data being supplied to the question, it should be assumed to be a console input. "
      ],
      "metadata": {
        "id": "8c0bZYj_uHZM"
      }
    },
    {
      "cell_type": "code",
      "source": [
        "c=50\n",
        "h=30\n",
        "d=[]\n",
        "def root (values):\n",
        "  for v in values:\n",
        "      d.append(int(((2*c*v)/h)**0.5))\n",
        "  return d\n",
        "\n",
        "root([20, 100, 50])"
      ],
      "metadata": {
        "colab": {
          "base_uri": "https://localhost:8080/"
        },
        "id": "9ehMalVgP94N",
        "outputId": "92fc952e-34af-4c0d-97c2-363c31e149b7"
      },
      "execution_count": 58,
      "outputs": [
        {
          "output_type": "execute_result",
          "data": {
            "text/plain": [
              "[8, 18, 12]"
            ]
          },
          "metadata": {},
          "execution_count": 58
        }
      ]
    },
    {
      "cell_type": "code",
      "source": [
        "def sqrt(struct):\n",
        "  roots=[]\n",
        "  for value in struct:\n",
        "    q= int(((2* 50 * value) / 30) **0.5)\n",
        "    roots.append(q)\n",
        "  return roots"
      ],
      "metadata": {
        "id": "vK0zTnm3uJYq"
      },
      "execution_count": 56,
      "outputs": []
    },
    {
      "cell_type": "code",
      "source": [
        "sqrt([10, 100, 120])\n"
      ],
      "metadata": {
        "colab": {
          "base_uri": "https://localhost:8080/"
        },
        "id": "9JC27irm9fg9",
        "outputId": "53ca13db-9a8a-4585-b9f3-20c589364eac"
      },
      "execution_count": 57,
      "outputs": [
        {
          "output_type": "execute_result",
          "data": {
            "text/plain": [
              "[5, 18, 20]"
            ]
          },
          "metadata": {},
          "execution_count": 57
        }
      ]
    },
    {
      "cell_type": "code",
      "source": [],
      "metadata": {
        "id": "750rDXMg_eg2"
      },
      "execution_count": null,
      "outputs": []
    }
  ]
}