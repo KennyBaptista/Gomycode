{
 "cells": [
  {
   "cell_type": "markdown",
   "id": "870fdd5e",
   "metadata": {},
   "source": [
    "Objective\n",
    "Regression \n",
    "This is a dataset containing over 21613 houses and their characteristics. The goal is to find the best model to predict a house’s price. \n",
    "\n",
    " \n",
    "\n",
    "1. Explore this dataset using what you have learned in data preprocessing and data visualization \n",
    "\n",
    "2. Write a paragraph selecting the most important features (feature selection). \n",
    "\n",
    "3. Split your dataset into a training set and a testing set. \n",
    "\n",
    "4. Apply linear regression to your training set. \n",
    "\n",
    "5. Plot the linear regression. \n",
    "\n",
    "5. Measure the performance of linear regression using the testing set. \n",
    "\n",
    "6. Apply multiple-linear regression and compare it to the linear model. \n",
    "\n",
    "7. Apply polynomial regression and compare it to linear and multilinear regression. \n",
    "\n",
    "Note: Every result has to be interpreted and justified. Write your interpretations in a markdown"
   ]
  },
  {
   "cell_type": "markdown",
   "id": "432b6157",
   "metadata": {},
   "source": [
    "Import all the necessary Libraries"
   ]
  },
  {
   "cell_type": "code",
   "execution_count": 158,
   "id": "efc4c9a5",
   "metadata": {},
   "outputs": [],
   "source": [
    "import pandas as pd\n",
    "import numpy as np\n",
    "import matplotlib.pyplot as plt\n",
    "import seaborn as sb\n",
    "import sklearn \n",
    "from sklearn.model_selection import train_test_split\n",
    "from sklearn.preprocessing import StandardScaler, PolynomialFeatures\n",
    "from sklearn.linear_model import LinearRegression\n",
    "from sklearn.metrics import mean_squared_error\n",
    "from sklearn import metrics"
   ]
  },
  {
   "cell_type": "code",
   "execution_count": null,
   "id": "99b7e7ab",
   "metadata": {},
   "outputs": [],
   "source": []
  },
  {
   "cell_type": "code",
   "execution_count": 159,
   "id": "7737bc2f",
   "metadata": {},
   "outputs": [],
   "source": [
    "house = pd.read_csv(\"C:\\\\Users\\\\VALUESEED\\\\Downloads\\\\kc_house_data (1).csv\")"
   ]
  },
  {
   "cell_type": "code",
   "execution_count": 160,
   "id": "5476e371",
   "metadata": {},
   "outputs": [
    {
     "data": {
      "text/html": [
       "<div>\n",
       "<style scoped>\n",
       "    .dataframe tbody tr th:only-of-type {\n",
       "        vertical-align: middle;\n",
       "    }\n",
       "\n",
       "    .dataframe tbody tr th {\n",
       "        vertical-align: top;\n",
       "    }\n",
       "\n",
       "    .dataframe thead th {\n",
       "        text-align: right;\n",
       "    }\n",
       "</style>\n",
       "<table border=\"1\" class=\"dataframe\">\n",
       "  <thead>\n",
       "    <tr style=\"text-align: right;\">\n",
       "      <th></th>\n",
       "      <th>id</th>\n",
       "      <th>date</th>\n",
       "      <th>price</th>\n",
       "      <th>bedrooms</th>\n",
       "      <th>bathrooms</th>\n",
       "      <th>sqft_living</th>\n",
       "      <th>sqft_lot</th>\n",
       "      <th>floors</th>\n",
       "      <th>waterfront</th>\n",
       "      <th>view</th>\n",
       "      <th>...</th>\n",
       "      <th>grade</th>\n",
       "      <th>sqft_above</th>\n",
       "      <th>sqft_basement</th>\n",
       "      <th>yr_built</th>\n",
       "      <th>yr_renovated</th>\n",
       "      <th>zipcode</th>\n",
       "      <th>lat</th>\n",
       "      <th>long</th>\n",
       "      <th>sqft_living15</th>\n",
       "      <th>sqft_lot15</th>\n",
       "    </tr>\n",
       "  </thead>\n",
       "  <tbody>\n",
       "    <tr>\n",
       "      <th>0</th>\n",
       "      <td>7129300520</td>\n",
       "      <td>20141013T000000</td>\n",
       "      <td>221900.0</td>\n",
       "      <td>3</td>\n",
       "      <td>1.00</td>\n",
       "      <td>1180</td>\n",
       "      <td>5650</td>\n",
       "      <td>1.0</td>\n",
       "      <td>0</td>\n",
       "      <td>0</td>\n",
       "      <td>...</td>\n",
       "      <td>7</td>\n",
       "      <td>1180</td>\n",
       "      <td>0</td>\n",
       "      <td>1955</td>\n",
       "      <td>0</td>\n",
       "      <td>98178</td>\n",
       "      <td>47.5112</td>\n",
       "      <td>-122.257</td>\n",
       "      <td>1340</td>\n",
       "      <td>5650</td>\n",
       "    </tr>\n",
       "    <tr>\n",
       "      <th>1</th>\n",
       "      <td>6414100192</td>\n",
       "      <td>20141209T000000</td>\n",
       "      <td>538000.0</td>\n",
       "      <td>3</td>\n",
       "      <td>2.25</td>\n",
       "      <td>2570</td>\n",
       "      <td>7242</td>\n",
       "      <td>2.0</td>\n",
       "      <td>0</td>\n",
       "      <td>0</td>\n",
       "      <td>...</td>\n",
       "      <td>7</td>\n",
       "      <td>2170</td>\n",
       "      <td>400</td>\n",
       "      <td>1951</td>\n",
       "      <td>1991</td>\n",
       "      <td>98125</td>\n",
       "      <td>47.7210</td>\n",
       "      <td>-122.319</td>\n",
       "      <td>1690</td>\n",
       "      <td>7639</td>\n",
       "    </tr>\n",
       "    <tr>\n",
       "      <th>2</th>\n",
       "      <td>5631500400</td>\n",
       "      <td>20150225T000000</td>\n",
       "      <td>180000.0</td>\n",
       "      <td>2</td>\n",
       "      <td>1.00</td>\n",
       "      <td>770</td>\n",
       "      <td>10000</td>\n",
       "      <td>1.0</td>\n",
       "      <td>0</td>\n",
       "      <td>0</td>\n",
       "      <td>...</td>\n",
       "      <td>6</td>\n",
       "      <td>770</td>\n",
       "      <td>0</td>\n",
       "      <td>1933</td>\n",
       "      <td>0</td>\n",
       "      <td>98028</td>\n",
       "      <td>47.7379</td>\n",
       "      <td>-122.233</td>\n",
       "      <td>2720</td>\n",
       "      <td>8062</td>\n",
       "    </tr>\n",
       "    <tr>\n",
       "      <th>3</th>\n",
       "      <td>2487200875</td>\n",
       "      <td>20141209T000000</td>\n",
       "      <td>604000.0</td>\n",
       "      <td>4</td>\n",
       "      <td>3.00</td>\n",
       "      <td>1960</td>\n",
       "      <td>5000</td>\n",
       "      <td>1.0</td>\n",
       "      <td>0</td>\n",
       "      <td>0</td>\n",
       "      <td>...</td>\n",
       "      <td>7</td>\n",
       "      <td>1050</td>\n",
       "      <td>910</td>\n",
       "      <td>1965</td>\n",
       "      <td>0</td>\n",
       "      <td>98136</td>\n",
       "      <td>47.5208</td>\n",
       "      <td>-122.393</td>\n",
       "      <td>1360</td>\n",
       "      <td>5000</td>\n",
       "    </tr>\n",
       "    <tr>\n",
       "      <th>4</th>\n",
       "      <td>1954400510</td>\n",
       "      <td>20150218T000000</td>\n",
       "      <td>510000.0</td>\n",
       "      <td>3</td>\n",
       "      <td>2.00</td>\n",
       "      <td>1680</td>\n",
       "      <td>8080</td>\n",
       "      <td>1.0</td>\n",
       "      <td>0</td>\n",
       "      <td>0</td>\n",
       "      <td>...</td>\n",
       "      <td>8</td>\n",
       "      <td>1680</td>\n",
       "      <td>0</td>\n",
       "      <td>1987</td>\n",
       "      <td>0</td>\n",
       "      <td>98074</td>\n",
       "      <td>47.6168</td>\n",
       "      <td>-122.045</td>\n",
       "      <td>1800</td>\n",
       "      <td>7503</td>\n",
       "    </tr>\n",
       "    <tr>\n",
       "      <th>...</th>\n",
       "      <td>...</td>\n",
       "      <td>...</td>\n",
       "      <td>...</td>\n",
       "      <td>...</td>\n",
       "      <td>...</td>\n",
       "      <td>...</td>\n",
       "      <td>...</td>\n",
       "      <td>...</td>\n",
       "      <td>...</td>\n",
       "      <td>...</td>\n",
       "      <td>...</td>\n",
       "      <td>...</td>\n",
       "      <td>...</td>\n",
       "      <td>...</td>\n",
       "      <td>...</td>\n",
       "      <td>...</td>\n",
       "      <td>...</td>\n",
       "      <td>...</td>\n",
       "      <td>...</td>\n",
       "      <td>...</td>\n",
       "      <td>...</td>\n",
       "    </tr>\n",
       "    <tr>\n",
       "      <th>21608</th>\n",
       "      <td>263000018</td>\n",
       "      <td>20140521T000000</td>\n",
       "      <td>360000.0</td>\n",
       "      <td>3</td>\n",
       "      <td>2.50</td>\n",
       "      <td>1530</td>\n",
       "      <td>1131</td>\n",
       "      <td>3.0</td>\n",
       "      <td>0</td>\n",
       "      <td>0</td>\n",
       "      <td>...</td>\n",
       "      <td>8</td>\n",
       "      <td>1530</td>\n",
       "      <td>0</td>\n",
       "      <td>2009</td>\n",
       "      <td>0</td>\n",
       "      <td>98103</td>\n",
       "      <td>47.6993</td>\n",
       "      <td>-122.346</td>\n",
       "      <td>1530</td>\n",
       "      <td>1509</td>\n",
       "    </tr>\n",
       "    <tr>\n",
       "      <th>21609</th>\n",
       "      <td>6600060120</td>\n",
       "      <td>20150223T000000</td>\n",
       "      <td>400000.0</td>\n",
       "      <td>4</td>\n",
       "      <td>2.50</td>\n",
       "      <td>2310</td>\n",
       "      <td>5813</td>\n",
       "      <td>2.0</td>\n",
       "      <td>0</td>\n",
       "      <td>0</td>\n",
       "      <td>...</td>\n",
       "      <td>8</td>\n",
       "      <td>2310</td>\n",
       "      <td>0</td>\n",
       "      <td>2014</td>\n",
       "      <td>0</td>\n",
       "      <td>98146</td>\n",
       "      <td>47.5107</td>\n",
       "      <td>-122.362</td>\n",
       "      <td>1830</td>\n",
       "      <td>7200</td>\n",
       "    </tr>\n",
       "    <tr>\n",
       "      <th>21610</th>\n",
       "      <td>1523300141</td>\n",
       "      <td>20140623T000000</td>\n",
       "      <td>402101.0</td>\n",
       "      <td>2</td>\n",
       "      <td>0.75</td>\n",
       "      <td>1020</td>\n",
       "      <td>1350</td>\n",
       "      <td>2.0</td>\n",
       "      <td>0</td>\n",
       "      <td>0</td>\n",
       "      <td>...</td>\n",
       "      <td>7</td>\n",
       "      <td>1020</td>\n",
       "      <td>0</td>\n",
       "      <td>2009</td>\n",
       "      <td>0</td>\n",
       "      <td>98144</td>\n",
       "      <td>47.5944</td>\n",
       "      <td>-122.299</td>\n",
       "      <td>1020</td>\n",
       "      <td>2007</td>\n",
       "    </tr>\n",
       "    <tr>\n",
       "      <th>21611</th>\n",
       "      <td>291310100</td>\n",
       "      <td>20150116T000000</td>\n",
       "      <td>400000.0</td>\n",
       "      <td>3</td>\n",
       "      <td>2.50</td>\n",
       "      <td>1600</td>\n",
       "      <td>2388</td>\n",
       "      <td>2.0</td>\n",
       "      <td>0</td>\n",
       "      <td>0</td>\n",
       "      <td>...</td>\n",
       "      <td>8</td>\n",
       "      <td>1600</td>\n",
       "      <td>0</td>\n",
       "      <td>2004</td>\n",
       "      <td>0</td>\n",
       "      <td>98027</td>\n",
       "      <td>47.5345</td>\n",
       "      <td>-122.069</td>\n",
       "      <td>1410</td>\n",
       "      <td>1287</td>\n",
       "    </tr>\n",
       "    <tr>\n",
       "      <th>21612</th>\n",
       "      <td>1523300157</td>\n",
       "      <td>20141015T000000</td>\n",
       "      <td>325000.0</td>\n",
       "      <td>2</td>\n",
       "      <td>0.75</td>\n",
       "      <td>1020</td>\n",
       "      <td>1076</td>\n",
       "      <td>2.0</td>\n",
       "      <td>0</td>\n",
       "      <td>0</td>\n",
       "      <td>...</td>\n",
       "      <td>7</td>\n",
       "      <td>1020</td>\n",
       "      <td>0</td>\n",
       "      <td>2008</td>\n",
       "      <td>0</td>\n",
       "      <td>98144</td>\n",
       "      <td>47.5941</td>\n",
       "      <td>-122.299</td>\n",
       "      <td>1020</td>\n",
       "      <td>1357</td>\n",
       "    </tr>\n",
       "  </tbody>\n",
       "</table>\n",
       "<p>21613 rows × 21 columns</p>\n",
       "</div>"
      ],
      "text/plain": [
       "               id             date     price  bedrooms  bathrooms  \\\n",
       "0      7129300520  20141013T000000  221900.0         3       1.00   \n",
       "1      6414100192  20141209T000000  538000.0         3       2.25   \n",
       "2      5631500400  20150225T000000  180000.0         2       1.00   \n",
       "3      2487200875  20141209T000000  604000.0         4       3.00   \n",
       "4      1954400510  20150218T000000  510000.0         3       2.00   \n",
       "...           ...              ...       ...       ...        ...   \n",
       "21608   263000018  20140521T000000  360000.0         3       2.50   \n",
       "21609  6600060120  20150223T000000  400000.0         4       2.50   \n",
       "21610  1523300141  20140623T000000  402101.0         2       0.75   \n",
       "21611   291310100  20150116T000000  400000.0         3       2.50   \n",
       "21612  1523300157  20141015T000000  325000.0         2       0.75   \n",
       "\n",
       "       sqft_living  sqft_lot  floors  waterfront  view  ...  grade  \\\n",
       "0             1180      5650     1.0           0     0  ...      7   \n",
       "1             2570      7242     2.0           0     0  ...      7   \n",
       "2              770     10000     1.0           0     0  ...      6   \n",
       "3             1960      5000     1.0           0     0  ...      7   \n",
       "4             1680      8080     1.0           0     0  ...      8   \n",
       "...            ...       ...     ...         ...   ...  ...    ...   \n",
       "21608         1530      1131     3.0           0     0  ...      8   \n",
       "21609         2310      5813     2.0           0     0  ...      8   \n",
       "21610         1020      1350     2.0           0     0  ...      7   \n",
       "21611         1600      2388     2.0           0     0  ...      8   \n",
       "21612         1020      1076     2.0           0     0  ...      7   \n",
       "\n",
       "       sqft_above  sqft_basement  yr_built  yr_renovated  zipcode      lat  \\\n",
       "0            1180              0      1955             0    98178  47.5112   \n",
       "1            2170            400      1951          1991    98125  47.7210   \n",
       "2             770              0      1933             0    98028  47.7379   \n",
       "3            1050            910      1965             0    98136  47.5208   \n",
       "4            1680              0      1987             0    98074  47.6168   \n",
       "...           ...            ...       ...           ...      ...      ...   \n",
       "21608        1530              0      2009             0    98103  47.6993   \n",
       "21609        2310              0      2014             0    98146  47.5107   \n",
       "21610        1020              0      2009             0    98144  47.5944   \n",
       "21611        1600              0      2004             0    98027  47.5345   \n",
       "21612        1020              0      2008             0    98144  47.5941   \n",
       "\n",
       "          long  sqft_living15  sqft_lot15  \n",
       "0     -122.257           1340        5650  \n",
       "1     -122.319           1690        7639  \n",
       "2     -122.233           2720        8062  \n",
       "3     -122.393           1360        5000  \n",
       "4     -122.045           1800        7503  \n",
       "...        ...            ...         ...  \n",
       "21608 -122.346           1530        1509  \n",
       "21609 -122.362           1830        7200  \n",
       "21610 -122.299           1020        2007  \n",
       "21611 -122.069           1410        1287  \n",
       "21612 -122.299           1020        1357  \n",
       "\n",
       "[21613 rows x 21 columns]"
      ]
     },
     "execution_count": 160,
     "metadata": {},
     "output_type": "execute_result"
    }
   ],
   "source": [
    "house"
   ]
  },
  {
   "cell_type": "code",
   "execution_count": 161,
   "id": "dd1ab9f0",
   "metadata": {},
   "outputs": [
    {
     "data": {
      "text/plain": [
       "id               0\n",
       "date             0\n",
       "price            0\n",
       "bedrooms         0\n",
       "bathrooms        0\n",
       "sqft_living      0\n",
       "sqft_lot         0\n",
       "floors           0\n",
       "waterfront       0\n",
       "view             0\n",
       "condition        0\n",
       "grade            0\n",
       "sqft_above       0\n",
       "sqft_basement    0\n",
       "yr_built         0\n",
       "yr_renovated     0\n",
       "zipcode          0\n",
       "lat              0\n",
       "long             0\n",
       "sqft_living15    0\n",
       "sqft_lot15       0\n",
       "dtype: int64"
      ]
     },
     "execution_count": 161,
     "metadata": {},
     "output_type": "execute_result"
    }
   ],
   "source": [
    "#Checking for missing values\n",
    "house.isnull().sum()"
   ]
  },
  {
   "cell_type": "code",
   "execution_count": 162,
   "id": "71c40d93",
   "metadata": {},
   "outputs": [
    {
     "data": {
      "text/plain": [
       "array([0, 1], dtype=int64)"
      ]
     },
     "execution_count": 162,
     "metadata": {},
     "output_type": "execute_result"
    }
   ],
   "source": [
    "# Exploring individual columns to differentiate numerical from categorical data\n",
    "house[\"waterfront\"].unique() #this is a categorical column "
   ]
  },
  {
   "cell_type": "code",
   "execution_count": 163,
   "id": "6852b639",
   "metadata": {},
   "outputs": [
    {
     "data": {
      "text/plain": [
       "Index(['id', 'date', 'price', 'bedrooms', 'bathrooms', 'sqft_living',\n",
       "       'sqft_lot', 'floors', 'waterfront', 'view', 'condition', 'grade',\n",
       "       'sqft_above', 'sqft_basement', 'yr_built', 'yr_renovated', 'zipcode',\n",
       "       'lat', 'long', 'sqft_living15', 'sqft_lot15'],\n",
       "      dtype='object')"
      ]
     },
     "execution_count": 163,
     "metadata": {},
     "output_type": "execute_result"
    }
   ],
   "source": [
    "house.columns"
   ]
  },
  {
   "cell_type": "code",
   "execution_count": 164,
   "id": "febf63f4",
   "metadata": {},
   "outputs": [
    {
     "data": {
      "text/plain": [
       "2"
      ]
     },
     "execution_count": 164,
     "metadata": {},
     "output_type": "execute_result"
    }
   ],
   "source": [
    "house[\"waterfront\"].nunique()"
   ]
  },
  {
   "cell_type": "code",
   "execution_count": 165,
   "id": "e956a13f",
   "metadata": {},
   "outputs": [
    {
     "data": {
      "text/plain": [
       "6"
      ]
     },
     "execution_count": 165,
     "metadata": {},
     "output_type": "execute_result"
    }
   ],
   "source": [
    "house[\"floors\"].nunique()"
   ]
  },
  {
   "cell_type": "code",
   "execution_count": 166,
   "id": "4cbb8ebd",
   "metadata": {},
   "outputs": [],
   "source": [
    "new_house = house[[\"bedrooms\", \"bathrooms\", \"sqft_living\", \"sqft_lot\", \"floors\",\"waterfront\", \"view\", \"condition\", \"grade\", \"sqft_above\", \"sqft_basement\", \"yr_built\", \"yr_renovated\", \"lat\", \"long\", \"sqft_lot15\", \"price\"]]"
   ]
  },
  {
   "cell_type": "code",
   "execution_count": 167,
   "id": "39aa01be",
   "metadata": {},
   "outputs": [
    {
     "data": {
      "text/html": [
       "<div>\n",
       "<style scoped>\n",
       "    .dataframe tbody tr th:only-of-type {\n",
       "        vertical-align: middle;\n",
       "    }\n",
       "\n",
       "    .dataframe tbody tr th {\n",
       "        vertical-align: top;\n",
       "    }\n",
       "\n",
       "    .dataframe thead th {\n",
       "        text-align: right;\n",
       "    }\n",
       "</style>\n",
       "<table border=\"1\" class=\"dataframe\">\n",
       "  <thead>\n",
       "    <tr style=\"text-align: right;\">\n",
       "      <th></th>\n",
       "      <th>bedrooms</th>\n",
       "      <th>bathrooms</th>\n",
       "      <th>sqft_living</th>\n",
       "      <th>sqft_lot</th>\n",
       "      <th>floors</th>\n",
       "      <th>waterfront</th>\n",
       "      <th>view</th>\n",
       "      <th>condition</th>\n",
       "      <th>grade</th>\n",
       "      <th>sqft_above</th>\n",
       "      <th>sqft_basement</th>\n",
       "      <th>yr_built</th>\n",
       "      <th>yr_renovated</th>\n",
       "      <th>lat</th>\n",
       "      <th>long</th>\n",
       "      <th>sqft_lot15</th>\n",
       "      <th>price</th>\n",
       "    </tr>\n",
       "  </thead>\n",
       "  <tbody>\n",
       "    <tr>\n",
       "      <th>0</th>\n",
       "      <td>3</td>\n",
       "      <td>1.00</td>\n",
       "      <td>1180</td>\n",
       "      <td>5650</td>\n",
       "      <td>1.0</td>\n",
       "      <td>0</td>\n",
       "      <td>0</td>\n",
       "      <td>3</td>\n",
       "      <td>7</td>\n",
       "      <td>1180</td>\n",
       "      <td>0</td>\n",
       "      <td>1955</td>\n",
       "      <td>0</td>\n",
       "      <td>47.5112</td>\n",
       "      <td>-122.257</td>\n",
       "      <td>5650</td>\n",
       "      <td>221900.0</td>\n",
       "    </tr>\n",
       "    <tr>\n",
       "      <th>1</th>\n",
       "      <td>3</td>\n",
       "      <td>2.25</td>\n",
       "      <td>2570</td>\n",
       "      <td>7242</td>\n",
       "      <td>2.0</td>\n",
       "      <td>0</td>\n",
       "      <td>0</td>\n",
       "      <td>3</td>\n",
       "      <td>7</td>\n",
       "      <td>2170</td>\n",
       "      <td>400</td>\n",
       "      <td>1951</td>\n",
       "      <td>1991</td>\n",
       "      <td>47.7210</td>\n",
       "      <td>-122.319</td>\n",
       "      <td>7639</td>\n",
       "      <td>538000.0</td>\n",
       "    </tr>\n",
       "    <tr>\n",
       "      <th>2</th>\n",
       "      <td>2</td>\n",
       "      <td>1.00</td>\n",
       "      <td>770</td>\n",
       "      <td>10000</td>\n",
       "      <td>1.0</td>\n",
       "      <td>0</td>\n",
       "      <td>0</td>\n",
       "      <td>3</td>\n",
       "      <td>6</td>\n",
       "      <td>770</td>\n",
       "      <td>0</td>\n",
       "      <td>1933</td>\n",
       "      <td>0</td>\n",
       "      <td>47.7379</td>\n",
       "      <td>-122.233</td>\n",
       "      <td>8062</td>\n",
       "      <td>180000.0</td>\n",
       "    </tr>\n",
       "    <tr>\n",
       "      <th>3</th>\n",
       "      <td>4</td>\n",
       "      <td>3.00</td>\n",
       "      <td>1960</td>\n",
       "      <td>5000</td>\n",
       "      <td>1.0</td>\n",
       "      <td>0</td>\n",
       "      <td>0</td>\n",
       "      <td>5</td>\n",
       "      <td>7</td>\n",
       "      <td>1050</td>\n",
       "      <td>910</td>\n",
       "      <td>1965</td>\n",
       "      <td>0</td>\n",
       "      <td>47.5208</td>\n",
       "      <td>-122.393</td>\n",
       "      <td>5000</td>\n",
       "      <td>604000.0</td>\n",
       "    </tr>\n",
       "    <tr>\n",
       "      <th>4</th>\n",
       "      <td>3</td>\n",
       "      <td>2.00</td>\n",
       "      <td>1680</td>\n",
       "      <td>8080</td>\n",
       "      <td>1.0</td>\n",
       "      <td>0</td>\n",
       "      <td>0</td>\n",
       "      <td>3</td>\n",
       "      <td>8</td>\n",
       "      <td>1680</td>\n",
       "      <td>0</td>\n",
       "      <td>1987</td>\n",
       "      <td>0</td>\n",
       "      <td>47.6168</td>\n",
       "      <td>-122.045</td>\n",
       "      <td>7503</td>\n",
       "      <td>510000.0</td>\n",
       "    </tr>\n",
       "    <tr>\n",
       "      <th>...</th>\n",
       "      <td>...</td>\n",
       "      <td>...</td>\n",
       "      <td>...</td>\n",
       "      <td>...</td>\n",
       "      <td>...</td>\n",
       "      <td>...</td>\n",
       "      <td>...</td>\n",
       "      <td>...</td>\n",
       "      <td>...</td>\n",
       "      <td>...</td>\n",
       "      <td>...</td>\n",
       "      <td>...</td>\n",
       "      <td>...</td>\n",
       "      <td>...</td>\n",
       "      <td>...</td>\n",
       "      <td>...</td>\n",
       "      <td>...</td>\n",
       "    </tr>\n",
       "    <tr>\n",
       "      <th>21608</th>\n",
       "      <td>3</td>\n",
       "      <td>2.50</td>\n",
       "      <td>1530</td>\n",
       "      <td>1131</td>\n",
       "      <td>3.0</td>\n",
       "      <td>0</td>\n",
       "      <td>0</td>\n",
       "      <td>3</td>\n",
       "      <td>8</td>\n",
       "      <td>1530</td>\n",
       "      <td>0</td>\n",
       "      <td>2009</td>\n",
       "      <td>0</td>\n",
       "      <td>47.6993</td>\n",
       "      <td>-122.346</td>\n",
       "      <td>1509</td>\n",
       "      <td>360000.0</td>\n",
       "    </tr>\n",
       "    <tr>\n",
       "      <th>21609</th>\n",
       "      <td>4</td>\n",
       "      <td>2.50</td>\n",
       "      <td>2310</td>\n",
       "      <td>5813</td>\n",
       "      <td>2.0</td>\n",
       "      <td>0</td>\n",
       "      <td>0</td>\n",
       "      <td>3</td>\n",
       "      <td>8</td>\n",
       "      <td>2310</td>\n",
       "      <td>0</td>\n",
       "      <td>2014</td>\n",
       "      <td>0</td>\n",
       "      <td>47.5107</td>\n",
       "      <td>-122.362</td>\n",
       "      <td>7200</td>\n",
       "      <td>400000.0</td>\n",
       "    </tr>\n",
       "    <tr>\n",
       "      <th>21610</th>\n",
       "      <td>2</td>\n",
       "      <td>0.75</td>\n",
       "      <td>1020</td>\n",
       "      <td>1350</td>\n",
       "      <td>2.0</td>\n",
       "      <td>0</td>\n",
       "      <td>0</td>\n",
       "      <td>3</td>\n",
       "      <td>7</td>\n",
       "      <td>1020</td>\n",
       "      <td>0</td>\n",
       "      <td>2009</td>\n",
       "      <td>0</td>\n",
       "      <td>47.5944</td>\n",
       "      <td>-122.299</td>\n",
       "      <td>2007</td>\n",
       "      <td>402101.0</td>\n",
       "    </tr>\n",
       "    <tr>\n",
       "      <th>21611</th>\n",
       "      <td>3</td>\n",
       "      <td>2.50</td>\n",
       "      <td>1600</td>\n",
       "      <td>2388</td>\n",
       "      <td>2.0</td>\n",
       "      <td>0</td>\n",
       "      <td>0</td>\n",
       "      <td>3</td>\n",
       "      <td>8</td>\n",
       "      <td>1600</td>\n",
       "      <td>0</td>\n",
       "      <td>2004</td>\n",
       "      <td>0</td>\n",
       "      <td>47.5345</td>\n",
       "      <td>-122.069</td>\n",
       "      <td>1287</td>\n",
       "      <td>400000.0</td>\n",
       "    </tr>\n",
       "    <tr>\n",
       "      <th>21612</th>\n",
       "      <td>2</td>\n",
       "      <td>0.75</td>\n",
       "      <td>1020</td>\n",
       "      <td>1076</td>\n",
       "      <td>2.0</td>\n",
       "      <td>0</td>\n",
       "      <td>0</td>\n",
       "      <td>3</td>\n",
       "      <td>7</td>\n",
       "      <td>1020</td>\n",
       "      <td>0</td>\n",
       "      <td>2008</td>\n",
       "      <td>0</td>\n",
       "      <td>47.5941</td>\n",
       "      <td>-122.299</td>\n",
       "      <td>1357</td>\n",
       "      <td>325000.0</td>\n",
       "    </tr>\n",
       "  </tbody>\n",
       "</table>\n",
       "<p>21613 rows × 17 columns</p>\n",
       "</div>"
      ],
      "text/plain": [
       "       bedrooms  bathrooms  sqft_living  sqft_lot  floors  waterfront  view  \\\n",
       "0             3       1.00         1180      5650     1.0           0     0   \n",
       "1             3       2.25         2570      7242     2.0           0     0   \n",
       "2             2       1.00          770     10000     1.0           0     0   \n",
       "3             4       3.00         1960      5000     1.0           0     0   \n",
       "4             3       2.00         1680      8080     1.0           0     0   \n",
       "...         ...        ...          ...       ...     ...         ...   ...   \n",
       "21608         3       2.50         1530      1131     3.0           0     0   \n",
       "21609         4       2.50         2310      5813     2.0           0     0   \n",
       "21610         2       0.75         1020      1350     2.0           0     0   \n",
       "21611         3       2.50         1600      2388     2.0           0     0   \n",
       "21612         2       0.75         1020      1076     2.0           0     0   \n",
       "\n",
       "       condition  grade  sqft_above  sqft_basement  yr_built  yr_renovated  \\\n",
       "0              3      7        1180              0      1955             0   \n",
       "1              3      7        2170            400      1951          1991   \n",
       "2              3      6         770              0      1933             0   \n",
       "3              5      7        1050            910      1965             0   \n",
       "4              3      8        1680              0      1987             0   \n",
       "...          ...    ...         ...            ...       ...           ...   \n",
       "21608          3      8        1530              0      2009             0   \n",
       "21609          3      8        2310              0      2014             0   \n",
       "21610          3      7        1020              0      2009             0   \n",
       "21611          3      8        1600              0      2004             0   \n",
       "21612          3      7        1020              0      2008             0   \n",
       "\n",
       "           lat     long  sqft_lot15     price  \n",
       "0      47.5112 -122.257        5650  221900.0  \n",
       "1      47.7210 -122.319        7639  538000.0  \n",
       "2      47.7379 -122.233        8062  180000.0  \n",
       "3      47.5208 -122.393        5000  604000.0  \n",
       "4      47.6168 -122.045        7503  510000.0  \n",
       "...        ...      ...         ...       ...  \n",
       "21608  47.6993 -122.346        1509  360000.0  \n",
       "21609  47.5107 -122.362        7200  400000.0  \n",
       "21610  47.5944 -122.299        2007  402101.0  \n",
       "21611  47.5345 -122.069        1287  400000.0  \n",
       "21612  47.5941 -122.299        1357  325000.0  \n",
       "\n",
       "[21613 rows x 17 columns]"
      ]
     },
     "execution_count": 167,
     "metadata": {},
     "output_type": "execute_result"
    }
   ],
   "source": [
    "new_house"
   ]
  },
  {
   "cell_type": "code",
   "execution_count": 168,
   "id": "aa5c807a",
   "metadata": {},
   "outputs": [
    {
     "data": {
      "text/plain": [
       "1038"
      ]
     },
     "execution_count": 168,
     "metadata": {},
     "output_type": "execute_result"
    }
   ],
   "source": [
    "new_house[\"sqft_living\"].nunique()"
   ]
  },
  {
   "cell_type": "code",
   "execution_count": 169,
   "id": "4e347582",
   "metadata": {},
   "outputs": [
    {
     "data": {
      "text/plain": [
       "9782"
      ]
     },
     "execution_count": 169,
     "metadata": {},
     "output_type": "execute_result"
    }
   ],
   "source": [
    "new_house[\"sqft_lot\"].nunique()"
   ]
  },
  {
   "cell_type": "code",
   "execution_count": 170,
   "id": "e5f53bc9",
   "metadata": {},
   "outputs": [
    {
     "data": {
      "text/plain": [
       "bedrooms           13\n",
       "bathrooms          30\n",
       "sqft_living      1038\n",
       "sqft_lot         9782\n",
       "floors              6\n",
       "waterfront          2\n",
       "view                5\n",
       "condition           5\n",
       "grade              12\n",
       "sqft_above        946\n",
       "sqft_basement     306\n",
       "yr_built          116\n",
       "yr_renovated       70\n",
       "lat              5034\n",
       "long              752\n",
       "sqft_lot15       8689\n",
       "price            4028\n",
       "dtype: int64"
      ]
     },
     "execution_count": 170,
     "metadata": {},
     "output_type": "execute_result"
    }
   ],
   "source": [
    "new_house[[\"bedrooms\", \"bathrooms\", \"sqft_living\", \"sqft_lot\", \"floors\",\"waterfront\", \"view\", \"condition\", \"grade\", \"sqft_above\", \"sqft_basement\", \"yr_built\", \"yr_renovated\", \"lat\", \"long\", \"sqft_lot15\", \"price\"]].nunique()"
   ]
  },
  {
   "cell_type": "markdown",
   "id": "5aef4608",
   "metadata": {},
   "source": [
    "# labelling columns \n",
    "\n",
    "bedrooms is categorical         \n",
    "bathrooms is categorical     \n",
    "sqft_living is numerical   \n",
    "sqft_lot  is numerical      \n",
    "floors    is categorical         \n",
    "waterfront is categorical     \n",
    "view       is categorical         \n",
    "condition  is categorical       \n",
    "grade      is categorical        \n",
    "sqft_above  is numerical       \n",
    "sqft_basement  is numerical   \n",
    "yr_built     is categorical      \n",
    "yr_renovated  is categorical     \n",
    "lat     is numerical     \n",
    "long    is numerical       \n",
    "sqft_lot15 is numerical     \n",
    "price  is numerical\n"
   ]
  },
  {
   "cell_type": "code",
   "execution_count": 171,
   "id": "8f5a6b08",
   "metadata": {},
   "outputs": [],
   "source": [
    "#splitting out data into train and test split\n",
    "x= house[[\"bedrooms\", \"bathrooms\", \"sqft_living\", \"sqft_lot\", \"floors\",\"waterfront\", \"view\", \"condition\", \n",
    "        \"grade\", \"sqft_above\", \"sqft_basement\", \"yr_built\", \"yr_renovated\", \"lat\", \"long\", \"sqft_lot15\", \"price\"]]\n",
    "\n",
    "y= house[\"price\"]"
   ]
  },
  {
   "cell_type": "code",
   "execution_count": 172,
   "id": "2b73023e",
   "metadata": {},
   "outputs": [
    {
     "data": {
      "text/plain": [
       "array([221900., 538000., 180000., ..., 402101., 400000., 325000.])"
      ]
     },
     "execution_count": 172,
     "metadata": {},
     "output_type": "execute_result"
    }
   ],
   "source": [
    "np.array(x)\n",
    "np.array(y)"
   ]
  },
  {
   "cell_type": "code",
   "execution_count": 173,
   "id": "ffeccc97",
   "metadata": {},
   "outputs": [],
   "source": [
    "x = np.array(x)\n",
    "y = np.array(y)"
   ]
  },
  {
   "cell_type": "code",
   "execution_count": 174,
   "id": "9a8a9957",
   "metadata": {},
   "outputs": [],
   "source": [
    "x_train, x_test, y_train, y_test= train_test_split(x, y, test_size = .2)"
   ]
  },
  {
   "cell_type": "code",
   "execution_count": 175,
   "id": "8bfb5355",
   "metadata": {},
   "outputs": [
    {
     "data": {
      "text/plain": [
       "True"
      ]
     },
     "execution_count": 175,
     "metadata": {},
     "output_type": "execute_result"
    }
   ],
   "source": [
    "len(x_train) == len(y_train)"
   ]
  },
  {
   "cell_type": "code",
   "execution_count": 176,
   "id": "dbca3c61",
   "metadata": {},
   "outputs": [
    {
     "data": {
      "text/plain": [
       "StandardScaler()"
      ]
     },
     "execution_count": 176,
     "metadata": {},
     "output_type": "execute_result"
    }
   ],
   "source": [
    "sc = StandardScaler()\n",
    "sc"
   ]
  },
  {
   "cell_type": "code",
   "execution_count": 177,
   "id": "fdca8bb8",
   "metadata": {},
   "outputs": [],
   "source": [
    "sc = StandardScaler()\n",
    "trans = sc.fit_transform(x)"
   ]
  },
  {
   "cell_type": "code",
   "execution_count": 178,
   "id": "1b6dd657",
   "metadata": {},
   "outputs": [
    {
     "data": {
      "text/plain": [
       "array([[-0.39873715, -1.44746357, -0.97983502, ..., -0.30607896,\n",
       "        -0.26071541, -0.86671733],\n",
       "       [-0.39873715,  0.1756067 ,  0.53363434, ..., -0.74634143,\n",
       "        -0.18786773, -0.00568792],\n",
       "       [-1.47395936, -1.44746357, -1.42625404, ..., -0.13565477,\n",
       "        -0.17237524, -0.98084935],\n",
       "       ...,\n",
       "       [-1.47395936, -1.77207762, -1.15404732, ..., -0.60432128,\n",
       "        -0.39414129, -0.37586519],\n",
       "       [-0.39873715,  0.50022075, -0.52252773, ...,  1.02891048,\n",
       "        -0.42051149, -0.38158814],\n",
       "       [-1.47395936, -1.77207762, -1.15404732, ..., -0.60432128,\n",
       "        -0.41794772, -0.58588173]])"
      ]
     },
     "execution_count": 178,
     "metadata": {},
     "output_type": "execute_result"
    }
   ],
   "source": [
    "trans"
   ]
  },
  {
   "cell_type": "code",
   "execution_count": null,
   "id": "5a1203e9",
   "metadata": {},
   "outputs": [],
   "source": []
  },
  {
   "cell_type": "code",
   "execution_count": 179,
   "id": "d771c13f",
   "metadata": {},
   "outputs": [
    {
     "data": {
      "text/html": [
       "<div>\n",
       "<style scoped>\n",
       "    .dataframe tbody tr th:only-of-type {\n",
       "        vertical-align: middle;\n",
       "    }\n",
       "\n",
       "    .dataframe tbody tr th {\n",
       "        vertical-align: top;\n",
       "    }\n",
       "\n",
       "    .dataframe thead th {\n",
       "        text-align: right;\n",
       "    }\n",
       "</style>\n",
       "<table border=\"1\" class=\"dataframe\">\n",
       "  <thead>\n",
       "    <tr style=\"text-align: right;\">\n",
       "      <th></th>\n",
       "      <th>0</th>\n",
       "      <th>1</th>\n",
       "      <th>2</th>\n",
       "      <th>3</th>\n",
       "      <th>4</th>\n",
       "      <th>5</th>\n",
       "      <th>6</th>\n",
       "      <th>7</th>\n",
       "      <th>8</th>\n",
       "      <th>9</th>\n",
       "      <th>10</th>\n",
       "      <th>11</th>\n",
       "      <th>12</th>\n",
       "      <th>13</th>\n",
       "      <th>14</th>\n",
       "      <th>15</th>\n",
       "      <th>16</th>\n",
       "    </tr>\n",
       "  </thead>\n",
       "  <tbody>\n",
       "    <tr>\n",
       "      <th>0</th>\n",
       "      <td>-0.398737</td>\n",
       "      <td>-1.447464</td>\n",
       "      <td>-0.979835</td>\n",
       "      <td>-0.228321</td>\n",
       "      <td>-0.915427</td>\n",
       "      <td>-0.087173</td>\n",
       "      <td>-0.305759</td>\n",
       "      <td>-0.629187</td>\n",
       "      <td>-0.558836</td>\n",
       "      <td>-0.734708</td>\n",
       "      <td>-0.658681</td>\n",
       "      <td>-0.544898</td>\n",
       "      <td>-0.210128</td>\n",
       "      <td>-0.352572</td>\n",
       "      <td>-0.306079</td>\n",
       "      <td>-0.260715</td>\n",
       "      <td>-0.866717</td>\n",
       "    </tr>\n",
       "    <tr>\n",
       "      <th>1</th>\n",
       "      <td>-0.398737</td>\n",
       "      <td>0.175607</td>\n",
       "      <td>0.533634</td>\n",
       "      <td>-0.189885</td>\n",
       "      <td>0.936506</td>\n",
       "      <td>-0.087173</td>\n",
       "      <td>-0.305759</td>\n",
       "      <td>-0.629187</td>\n",
       "      <td>-0.558836</td>\n",
       "      <td>0.460841</td>\n",
       "      <td>0.245141</td>\n",
       "      <td>-0.681079</td>\n",
       "      <td>4.746678</td>\n",
       "      <td>1.161568</td>\n",
       "      <td>-0.746341</td>\n",
       "      <td>-0.187868</td>\n",
       "      <td>-0.005688</td>\n",
       "    </tr>\n",
       "    <tr>\n",
       "      <th>2</th>\n",
       "      <td>-1.473959</td>\n",
       "      <td>-1.447464</td>\n",
       "      <td>-1.426254</td>\n",
       "      <td>-0.123298</td>\n",
       "      <td>-0.915427</td>\n",
       "      <td>-0.087173</td>\n",
       "      <td>-0.305759</td>\n",
       "      <td>-0.629187</td>\n",
       "      <td>-1.409587</td>\n",
       "      <td>-1.229834</td>\n",
       "      <td>-0.658681</td>\n",
       "      <td>-1.293892</td>\n",
       "      <td>-0.210128</td>\n",
       "      <td>1.283537</td>\n",
       "      <td>-0.135655</td>\n",
       "      <td>-0.172375</td>\n",
       "      <td>-0.980849</td>\n",
       "    </tr>\n",
       "    <tr>\n",
       "      <th>3</th>\n",
       "      <td>0.676485</td>\n",
       "      <td>1.149449</td>\n",
       "      <td>-0.130550</td>\n",
       "      <td>-0.244014</td>\n",
       "      <td>-0.915427</td>\n",
       "      <td>-0.087173</td>\n",
       "      <td>-0.305759</td>\n",
       "      <td>2.444294</td>\n",
       "      <td>-0.558836</td>\n",
       "      <td>-0.891699</td>\n",
       "      <td>1.397515</td>\n",
       "      <td>-0.204446</td>\n",
       "      <td>-0.210128</td>\n",
       "      <td>-0.283288</td>\n",
       "      <td>-1.271816</td>\n",
       "      <td>-0.284522</td>\n",
       "      <td>0.174090</td>\n",
       "    </tr>\n",
       "    <tr>\n",
       "      <th>4</th>\n",
       "      <td>-0.398737</td>\n",
       "      <td>-0.149007</td>\n",
       "      <td>-0.435422</td>\n",
       "      <td>-0.169653</td>\n",
       "      <td>-0.915427</td>\n",
       "      <td>-0.087173</td>\n",
       "      <td>-0.305759</td>\n",
       "      <td>-0.629187</td>\n",
       "      <td>0.291916</td>\n",
       "      <td>-0.130895</td>\n",
       "      <td>-0.658681</td>\n",
       "      <td>0.544548</td>\n",
       "      <td>-0.210128</td>\n",
       "      <td>0.409550</td>\n",
       "      <td>1.199335</td>\n",
       "      <td>-0.192849</td>\n",
       "      <td>-0.081958</td>\n",
       "    </tr>\n",
       "    <tr>\n",
       "      <th>...</th>\n",
       "      <td>...</td>\n",
       "      <td>...</td>\n",
       "      <td>...</td>\n",
       "      <td>...</td>\n",
       "      <td>...</td>\n",
       "      <td>...</td>\n",
       "      <td>...</td>\n",
       "      <td>...</td>\n",
       "      <td>...</td>\n",
       "      <td>...</td>\n",
       "      <td>...</td>\n",
       "      <td>...</td>\n",
       "      <td>...</td>\n",
       "      <td>...</td>\n",
       "      <td>...</td>\n",
       "      <td>...</td>\n",
       "      <td>...</td>\n",
       "    </tr>\n",
       "    <tr>\n",
       "      <th>21608</th>\n",
       "      <td>-0.398737</td>\n",
       "      <td>0.500221</td>\n",
       "      <td>-0.598746</td>\n",
       "      <td>-0.337424</td>\n",
       "      <td>2.788439</td>\n",
       "      <td>-0.087173</td>\n",
       "      <td>-0.305759</td>\n",
       "      <td>-0.629187</td>\n",
       "      <td>0.291916</td>\n",
       "      <td>-0.312039</td>\n",
       "      <td>-0.658681</td>\n",
       "      <td>1.293542</td>\n",
       "      <td>-0.210128</td>\n",
       "      <td>1.004958</td>\n",
       "      <td>-0.938069</td>\n",
       "      <td>-0.412381</td>\n",
       "      <td>-0.490545</td>\n",
       "    </tr>\n",
       "    <tr>\n",
       "      <th>21609</th>\n",
       "      <td>0.676485</td>\n",
       "      <td>0.500221</td>\n",
       "      <td>0.250539</td>\n",
       "      <td>-0.224386</td>\n",
       "      <td>0.936506</td>\n",
       "      <td>-0.087173</td>\n",
       "      <td>-0.305759</td>\n",
       "      <td>-0.629187</td>\n",
       "      <td>0.291916</td>\n",
       "      <td>0.629908</td>\n",
       "      <td>-0.658681</td>\n",
       "      <td>1.463768</td>\n",
       "      <td>-0.210128</td>\n",
       "      <td>-0.356180</td>\n",
       "      <td>-1.051685</td>\n",
       "      <td>-0.203946</td>\n",
       "      <td>-0.381588</td>\n",
       "    </tr>\n",
       "    <tr>\n",
       "      <th>21610</th>\n",
       "      <td>-1.473959</td>\n",
       "      <td>-1.772078</td>\n",
       "      <td>-1.154047</td>\n",
       "      <td>-0.332137</td>\n",
       "      <td>0.936506</td>\n",
       "      <td>-0.087173</td>\n",
       "      <td>-0.305759</td>\n",
       "      <td>-0.629187</td>\n",
       "      <td>-0.558836</td>\n",
       "      <td>-0.927928</td>\n",
       "      <td>-0.658681</td>\n",
       "      <td>1.293542</td>\n",
       "      <td>-0.210128</td>\n",
       "      <td>0.247888</td>\n",
       "      <td>-0.604321</td>\n",
       "      <td>-0.394141</td>\n",
       "      <td>-0.375865</td>\n",
       "    </tr>\n",
       "    <tr>\n",
       "      <th>21611</th>\n",
       "      <td>-0.398737</td>\n",
       "      <td>0.500221</td>\n",
       "      <td>-0.522528</td>\n",
       "      <td>-0.307076</td>\n",
       "      <td>0.936506</td>\n",
       "      <td>-0.087173</td>\n",
       "      <td>-0.305759</td>\n",
       "      <td>-0.629187</td>\n",
       "      <td>0.291916</td>\n",
       "      <td>-0.227505</td>\n",
       "      <td>-0.658681</td>\n",
       "      <td>1.123316</td>\n",
       "      <td>-0.210128</td>\n",
       "      <td>-0.184414</td>\n",
       "      <td>1.028910</td>\n",
       "      <td>-0.420511</td>\n",
       "      <td>-0.381588</td>\n",
       "    </tr>\n",
       "    <tr>\n",
       "      <th>21612</th>\n",
       "      <td>-1.473959</td>\n",
       "      <td>-1.772078</td>\n",
       "      <td>-1.154047</td>\n",
       "      <td>-0.338752</td>\n",
       "      <td>0.936506</td>\n",
       "      <td>-0.087173</td>\n",
       "      <td>-0.305759</td>\n",
       "      <td>-0.629187</td>\n",
       "      <td>-0.558836</td>\n",
       "      <td>-0.927928</td>\n",
       "      <td>-0.658681</td>\n",
       "      <td>1.259497</td>\n",
       "      <td>-0.210128</td>\n",
       "      <td>0.245723</td>\n",
       "      <td>-0.604321</td>\n",
       "      <td>-0.417948</td>\n",
       "      <td>-0.585882</td>\n",
       "    </tr>\n",
       "  </tbody>\n",
       "</table>\n",
       "<p>21613 rows × 17 columns</p>\n",
       "</div>"
      ],
      "text/plain": [
       "             0         1         2         3         4         5         6   \\\n",
       "0     -0.398737 -1.447464 -0.979835 -0.228321 -0.915427 -0.087173 -0.305759   \n",
       "1     -0.398737  0.175607  0.533634 -0.189885  0.936506 -0.087173 -0.305759   \n",
       "2     -1.473959 -1.447464 -1.426254 -0.123298 -0.915427 -0.087173 -0.305759   \n",
       "3      0.676485  1.149449 -0.130550 -0.244014 -0.915427 -0.087173 -0.305759   \n",
       "4     -0.398737 -0.149007 -0.435422 -0.169653 -0.915427 -0.087173 -0.305759   \n",
       "...         ...       ...       ...       ...       ...       ...       ...   \n",
       "21608 -0.398737  0.500221 -0.598746 -0.337424  2.788439 -0.087173 -0.305759   \n",
       "21609  0.676485  0.500221  0.250539 -0.224386  0.936506 -0.087173 -0.305759   \n",
       "21610 -1.473959 -1.772078 -1.154047 -0.332137  0.936506 -0.087173 -0.305759   \n",
       "21611 -0.398737  0.500221 -0.522528 -0.307076  0.936506 -0.087173 -0.305759   \n",
       "21612 -1.473959 -1.772078 -1.154047 -0.338752  0.936506 -0.087173 -0.305759   \n",
       "\n",
       "             7         8         9         10        11        12        13  \\\n",
       "0     -0.629187 -0.558836 -0.734708 -0.658681 -0.544898 -0.210128 -0.352572   \n",
       "1     -0.629187 -0.558836  0.460841  0.245141 -0.681079  4.746678  1.161568   \n",
       "2     -0.629187 -1.409587 -1.229834 -0.658681 -1.293892 -0.210128  1.283537   \n",
       "3      2.444294 -0.558836 -0.891699  1.397515 -0.204446 -0.210128 -0.283288   \n",
       "4     -0.629187  0.291916 -0.130895 -0.658681  0.544548 -0.210128  0.409550   \n",
       "...         ...       ...       ...       ...       ...       ...       ...   \n",
       "21608 -0.629187  0.291916 -0.312039 -0.658681  1.293542 -0.210128  1.004958   \n",
       "21609 -0.629187  0.291916  0.629908 -0.658681  1.463768 -0.210128 -0.356180   \n",
       "21610 -0.629187 -0.558836 -0.927928 -0.658681  1.293542 -0.210128  0.247888   \n",
       "21611 -0.629187  0.291916 -0.227505 -0.658681  1.123316 -0.210128 -0.184414   \n",
       "21612 -0.629187 -0.558836 -0.927928 -0.658681  1.259497 -0.210128  0.245723   \n",
       "\n",
       "             14        15        16  \n",
       "0     -0.306079 -0.260715 -0.866717  \n",
       "1     -0.746341 -0.187868 -0.005688  \n",
       "2     -0.135655 -0.172375 -0.980849  \n",
       "3     -1.271816 -0.284522  0.174090  \n",
       "4      1.199335 -0.192849 -0.081958  \n",
       "...         ...       ...       ...  \n",
       "21608 -0.938069 -0.412381 -0.490545  \n",
       "21609 -1.051685 -0.203946 -0.381588  \n",
       "21610 -0.604321 -0.394141 -0.375865  \n",
       "21611  1.028910 -0.420511 -0.381588  \n",
       "21612 -0.604321 -0.417948 -0.585882  \n",
       "\n",
       "[21613 rows x 17 columns]"
      ]
     },
     "execution_count": 179,
     "metadata": {},
     "output_type": "execute_result"
    }
   ],
   "source": [
    "pd.DataFrame(trans)"
   ]
  },
  {
   "cell_type": "code",
   "execution_count": 180,
   "id": "e1133054",
   "metadata": {},
   "outputs": [
    {
     "data": {
      "text/html": [
       "<div>\n",
       "<style scoped>\n",
       "    .dataframe tbody tr th:only-of-type {\n",
       "        vertical-align: middle;\n",
       "    }\n",
       "\n",
       "    .dataframe tbody tr th {\n",
       "        vertical-align: top;\n",
       "    }\n",
       "\n",
       "    .dataframe thead th {\n",
       "        text-align: right;\n",
       "    }\n",
       "</style>\n",
       "<table border=\"1\" class=\"dataframe\">\n",
       "  <thead>\n",
       "    <tr style=\"text-align: right;\">\n",
       "      <th></th>\n",
       "      <th>0</th>\n",
       "    </tr>\n",
       "  </thead>\n",
       "  <tbody>\n",
       "    <tr>\n",
       "      <th>0</th>\n",
       "      <td>-0.866717</td>\n",
       "    </tr>\n",
       "    <tr>\n",
       "      <th>1</th>\n",
       "      <td>-0.005688</td>\n",
       "    </tr>\n",
       "    <tr>\n",
       "      <th>2</th>\n",
       "      <td>-0.980849</td>\n",
       "    </tr>\n",
       "    <tr>\n",
       "      <th>3</th>\n",
       "      <td>0.174090</td>\n",
       "    </tr>\n",
       "    <tr>\n",
       "      <th>4</th>\n",
       "      <td>-0.081958</td>\n",
       "    </tr>\n",
       "    <tr>\n",
       "      <th>...</th>\n",
       "      <td>...</td>\n",
       "    </tr>\n",
       "    <tr>\n",
       "      <th>21608</th>\n",
       "      <td>-0.490545</td>\n",
       "    </tr>\n",
       "    <tr>\n",
       "      <th>21609</th>\n",
       "      <td>-0.381588</td>\n",
       "    </tr>\n",
       "    <tr>\n",
       "      <th>21610</th>\n",
       "      <td>-0.375865</td>\n",
       "    </tr>\n",
       "    <tr>\n",
       "      <th>21611</th>\n",
       "      <td>-0.381588</td>\n",
       "    </tr>\n",
       "    <tr>\n",
       "      <th>21612</th>\n",
       "      <td>-0.585882</td>\n",
       "    </tr>\n",
       "  </tbody>\n",
       "</table>\n",
       "<p>21613 rows × 1 columns</p>\n",
       "</div>"
      ],
      "text/plain": [
       "              0\n",
       "0     -0.866717\n",
       "1     -0.005688\n",
       "2     -0.980849\n",
       "3      0.174090\n",
       "4     -0.081958\n",
       "...         ...\n",
       "21608 -0.490545\n",
       "21609 -0.381588\n",
       "21610 -0.375865\n",
       "21611 -0.381588\n",
       "21612 -0.585882\n",
       "\n",
       "[21613 rows x 1 columns]"
      ]
     },
     "execution_count": 180,
     "metadata": {},
     "output_type": "execute_result"
    }
   ],
   "source": [
    "pd.DataFrame(trans[:,-1])"
   ]
  },
  {
   "cell_type": "code",
   "execution_count": 181,
   "id": "55085bf7",
   "metadata": {},
   "outputs": [],
   "source": [
    "#transforming our data using the standard scaler method\n",
    "sc = StandardScaler()\n",
    "trans= sc.fit_transform(new_house)"
   ]
  },
  {
   "cell_type": "code",
   "execution_count": 182,
   "id": "9f655ee4",
   "metadata": {},
   "outputs": [
    {
     "data": {
      "text/html": [
       "<div>\n",
       "<style scoped>\n",
       "    .dataframe tbody tr th:only-of-type {\n",
       "        vertical-align: middle;\n",
       "    }\n",
       "\n",
       "    .dataframe tbody tr th {\n",
       "        vertical-align: top;\n",
       "    }\n",
       "\n",
       "    .dataframe thead th {\n",
       "        text-align: right;\n",
       "    }\n",
       "</style>\n",
       "<table border=\"1\" class=\"dataframe\">\n",
       "  <thead>\n",
       "    <tr style=\"text-align: right;\">\n",
       "      <th></th>\n",
       "      <th>0</th>\n",
       "      <th>1</th>\n",
       "      <th>2</th>\n",
       "      <th>3</th>\n",
       "      <th>4</th>\n",
       "      <th>5</th>\n",
       "      <th>6</th>\n",
       "      <th>7</th>\n",
       "      <th>8</th>\n",
       "      <th>9</th>\n",
       "      <th>10</th>\n",
       "      <th>11</th>\n",
       "      <th>12</th>\n",
       "      <th>13</th>\n",
       "      <th>14</th>\n",
       "      <th>15</th>\n",
       "      <th>16</th>\n",
       "    </tr>\n",
       "  </thead>\n",
       "  <tbody>\n",
       "    <tr>\n",
       "      <th>0</th>\n",
       "      <td>-0.398737</td>\n",
       "      <td>-1.447464</td>\n",
       "      <td>-0.979835</td>\n",
       "      <td>-0.228321</td>\n",
       "      <td>-0.915427</td>\n",
       "      <td>-0.087173</td>\n",
       "      <td>-0.305759</td>\n",
       "      <td>-0.629187</td>\n",
       "      <td>-0.558836</td>\n",
       "      <td>-0.734708</td>\n",
       "      <td>-0.658681</td>\n",
       "      <td>-0.544898</td>\n",
       "      <td>-0.210128</td>\n",
       "      <td>-0.352572</td>\n",
       "      <td>-0.306079</td>\n",
       "      <td>-0.260715</td>\n",
       "      <td>-0.866717</td>\n",
       "    </tr>\n",
       "    <tr>\n",
       "      <th>1</th>\n",
       "      <td>-0.398737</td>\n",
       "      <td>0.175607</td>\n",
       "      <td>0.533634</td>\n",
       "      <td>-0.189885</td>\n",
       "      <td>0.936506</td>\n",
       "      <td>-0.087173</td>\n",
       "      <td>-0.305759</td>\n",
       "      <td>-0.629187</td>\n",
       "      <td>-0.558836</td>\n",
       "      <td>0.460841</td>\n",
       "      <td>0.245141</td>\n",
       "      <td>-0.681079</td>\n",
       "      <td>4.746678</td>\n",
       "      <td>1.161568</td>\n",
       "      <td>-0.746341</td>\n",
       "      <td>-0.187868</td>\n",
       "      <td>-0.005688</td>\n",
       "    </tr>\n",
       "    <tr>\n",
       "      <th>2</th>\n",
       "      <td>-1.473959</td>\n",
       "      <td>-1.447464</td>\n",
       "      <td>-1.426254</td>\n",
       "      <td>-0.123298</td>\n",
       "      <td>-0.915427</td>\n",
       "      <td>-0.087173</td>\n",
       "      <td>-0.305759</td>\n",
       "      <td>-0.629187</td>\n",
       "      <td>-1.409587</td>\n",
       "      <td>-1.229834</td>\n",
       "      <td>-0.658681</td>\n",
       "      <td>-1.293892</td>\n",
       "      <td>-0.210128</td>\n",
       "      <td>1.283537</td>\n",
       "      <td>-0.135655</td>\n",
       "      <td>-0.172375</td>\n",
       "      <td>-0.980849</td>\n",
       "    </tr>\n",
       "    <tr>\n",
       "      <th>3</th>\n",
       "      <td>0.676485</td>\n",
       "      <td>1.149449</td>\n",
       "      <td>-0.130550</td>\n",
       "      <td>-0.244014</td>\n",
       "      <td>-0.915427</td>\n",
       "      <td>-0.087173</td>\n",
       "      <td>-0.305759</td>\n",
       "      <td>2.444294</td>\n",
       "      <td>-0.558836</td>\n",
       "      <td>-0.891699</td>\n",
       "      <td>1.397515</td>\n",
       "      <td>-0.204446</td>\n",
       "      <td>-0.210128</td>\n",
       "      <td>-0.283288</td>\n",
       "      <td>-1.271816</td>\n",
       "      <td>-0.284522</td>\n",
       "      <td>0.174090</td>\n",
       "    </tr>\n",
       "    <tr>\n",
       "      <th>4</th>\n",
       "      <td>-0.398737</td>\n",
       "      <td>-0.149007</td>\n",
       "      <td>-0.435422</td>\n",
       "      <td>-0.169653</td>\n",
       "      <td>-0.915427</td>\n",
       "      <td>-0.087173</td>\n",
       "      <td>-0.305759</td>\n",
       "      <td>-0.629187</td>\n",
       "      <td>0.291916</td>\n",
       "      <td>-0.130895</td>\n",
       "      <td>-0.658681</td>\n",
       "      <td>0.544548</td>\n",
       "      <td>-0.210128</td>\n",
       "      <td>0.409550</td>\n",
       "      <td>1.199335</td>\n",
       "      <td>-0.192849</td>\n",
       "      <td>-0.081958</td>\n",
       "    </tr>\n",
       "    <tr>\n",
       "      <th>...</th>\n",
       "      <td>...</td>\n",
       "      <td>...</td>\n",
       "      <td>...</td>\n",
       "      <td>...</td>\n",
       "      <td>...</td>\n",
       "      <td>...</td>\n",
       "      <td>...</td>\n",
       "      <td>...</td>\n",
       "      <td>...</td>\n",
       "      <td>...</td>\n",
       "      <td>...</td>\n",
       "      <td>...</td>\n",
       "      <td>...</td>\n",
       "      <td>...</td>\n",
       "      <td>...</td>\n",
       "      <td>...</td>\n",
       "      <td>...</td>\n",
       "    </tr>\n",
       "    <tr>\n",
       "      <th>21608</th>\n",
       "      <td>-0.398737</td>\n",
       "      <td>0.500221</td>\n",
       "      <td>-0.598746</td>\n",
       "      <td>-0.337424</td>\n",
       "      <td>2.788439</td>\n",
       "      <td>-0.087173</td>\n",
       "      <td>-0.305759</td>\n",
       "      <td>-0.629187</td>\n",
       "      <td>0.291916</td>\n",
       "      <td>-0.312039</td>\n",
       "      <td>-0.658681</td>\n",
       "      <td>1.293542</td>\n",
       "      <td>-0.210128</td>\n",
       "      <td>1.004958</td>\n",
       "      <td>-0.938069</td>\n",
       "      <td>-0.412381</td>\n",
       "      <td>-0.490545</td>\n",
       "    </tr>\n",
       "    <tr>\n",
       "      <th>21609</th>\n",
       "      <td>0.676485</td>\n",
       "      <td>0.500221</td>\n",
       "      <td>0.250539</td>\n",
       "      <td>-0.224386</td>\n",
       "      <td>0.936506</td>\n",
       "      <td>-0.087173</td>\n",
       "      <td>-0.305759</td>\n",
       "      <td>-0.629187</td>\n",
       "      <td>0.291916</td>\n",
       "      <td>0.629908</td>\n",
       "      <td>-0.658681</td>\n",
       "      <td>1.463768</td>\n",
       "      <td>-0.210128</td>\n",
       "      <td>-0.356180</td>\n",
       "      <td>-1.051685</td>\n",
       "      <td>-0.203946</td>\n",
       "      <td>-0.381588</td>\n",
       "    </tr>\n",
       "    <tr>\n",
       "      <th>21610</th>\n",
       "      <td>-1.473959</td>\n",
       "      <td>-1.772078</td>\n",
       "      <td>-1.154047</td>\n",
       "      <td>-0.332137</td>\n",
       "      <td>0.936506</td>\n",
       "      <td>-0.087173</td>\n",
       "      <td>-0.305759</td>\n",
       "      <td>-0.629187</td>\n",
       "      <td>-0.558836</td>\n",
       "      <td>-0.927928</td>\n",
       "      <td>-0.658681</td>\n",
       "      <td>1.293542</td>\n",
       "      <td>-0.210128</td>\n",
       "      <td>0.247888</td>\n",
       "      <td>-0.604321</td>\n",
       "      <td>-0.394141</td>\n",
       "      <td>-0.375865</td>\n",
       "    </tr>\n",
       "    <tr>\n",
       "      <th>21611</th>\n",
       "      <td>-0.398737</td>\n",
       "      <td>0.500221</td>\n",
       "      <td>-0.522528</td>\n",
       "      <td>-0.307076</td>\n",
       "      <td>0.936506</td>\n",
       "      <td>-0.087173</td>\n",
       "      <td>-0.305759</td>\n",
       "      <td>-0.629187</td>\n",
       "      <td>0.291916</td>\n",
       "      <td>-0.227505</td>\n",
       "      <td>-0.658681</td>\n",
       "      <td>1.123316</td>\n",
       "      <td>-0.210128</td>\n",
       "      <td>-0.184414</td>\n",
       "      <td>1.028910</td>\n",
       "      <td>-0.420511</td>\n",
       "      <td>-0.381588</td>\n",
       "    </tr>\n",
       "    <tr>\n",
       "      <th>21612</th>\n",
       "      <td>-1.473959</td>\n",
       "      <td>-1.772078</td>\n",
       "      <td>-1.154047</td>\n",
       "      <td>-0.338752</td>\n",
       "      <td>0.936506</td>\n",
       "      <td>-0.087173</td>\n",
       "      <td>-0.305759</td>\n",
       "      <td>-0.629187</td>\n",
       "      <td>-0.558836</td>\n",
       "      <td>-0.927928</td>\n",
       "      <td>-0.658681</td>\n",
       "      <td>1.259497</td>\n",
       "      <td>-0.210128</td>\n",
       "      <td>0.245723</td>\n",
       "      <td>-0.604321</td>\n",
       "      <td>-0.417948</td>\n",
       "      <td>-0.585882</td>\n",
       "    </tr>\n",
       "  </tbody>\n",
       "</table>\n",
       "<p>21613 rows × 17 columns</p>\n",
       "</div>"
      ],
      "text/plain": [
       "             0         1         2         3         4         5         6   \\\n",
       "0     -0.398737 -1.447464 -0.979835 -0.228321 -0.915427 -0.087173 -0.305759   \n",
       "1     -0.398737  0.175607  0.533634 -0.189885  0.936506 -0.087173 -0.305759   \n",
       "2     -1.473959 -1.447464 -1.426254 -0.123298 -0.915427 -0.087173 -0.305759   \n",
       "3      0.676485  1.149449 -0.130550 -0.244014 -0.915427 -0.087173 -0.305759   \n",
       "4     -0.398737 -0.149007 -0.435422 -0.169653 -0.915427 -0.087173 -0.305759   \n",
       "...         ...       ...       ...       ...       ...       ...       ...   \n",
       "21608 -0.398737  0.500221 -0.598746 -0.337424  2.788439 -0.087173 -0.305759   \n",
       "21609  0.676485  0.500221  0.250539 -0.224386  0.936506 -0.087173 -0.305759   \n",
       "21610 -1.473959 -1.772078 -1.154047 -0.332137  0.936506 -0.087173 -0.305759   \n",
       "21611 -0.398737  0.500221 -0.522528 -0.307076  0.936506 -0.087173 -0.305759   \n",
       "21612 -1.473959 -1.772078 -1.154047 -0.338752  0.936506 -0.087173 -0.305759   \n",
       "\n",
       "             7         8         9         10        11        12        13  \\\n",
       "0     -0.629187 -0.558836 -0.734708 -0.658681 -0.544898 -0.210128 -0.352572   \n",
       "1     -0.629187 -0.558836  0.460841  0.245141 -0.681079  4.746678  1.161568   \n",
       "2     -0.629187 -1.409587 -1.229834 -0.658681 -1.293892 -0.210128  1.283537   \n",
       "3      2.444294 -0.558836 -0.891699  1.397515 -0.204446 -0.210128 -0.283288   \n",
       "4     -0.629187  0.291916 -0.130895 -0.658681  0.544548 -0.210128  0.409550   \n",
       "...         ...       ...       ...       ...       ...       ...       ...   \n",
       "21608 -0.629187  0.291916 -0.312039 -0.658681  1.293542 -0.210128  1.004958   \n",
       "21609 -0.629187  0.291916  0.629908 -0.658681  1.463768 -0.210128 -0.356180   \n",
       "21610 -0.629187 -0.558836 -0.927928 -0.658681  1.293542 -0.210128  0.247888   \n",
       "21611 -0.629187  0.291916 -0.227505 -0.658681  1.123316 -0.210128 -0.184414   \n",
       "21612 -0.629187 -0.558836 -0.927928 -0.658681  1.259497 -0.210128  0.245723   \n",
       "\n",
       "             14        15        16  \n",
       "0     -0.306079 -0.260715 -0.866717  \n",
       "1     -0.746341 -0.187868 -0.005688  \n",
       "2     -0.135655 -0.172375 -0.980849  \n",
       "3     -1.271816 -0.284522  0.174090  \n",
       "4      1.199335 -0.192849 -0.081958  \n",
       "...         ...       ...       ...  \n",
       "21608 -0.938069 -0.412381 -0.490545  \n",
       "21609 -1.051685 -0.203946 -0.381588  \n",
       "21610 -0.604321 -0.394141 -0.375865  \n",
       "21611  1.028910 -0.420511 -0.381588  \n",
       "21612 -0.604321 -0.417948 -0.585882  \n",
       "\n",
       "[21613 rows x 17 columns]"
      ]
     },
     "execution_count": 182,
     "metadata": {},
     "output_type": "execute_result"
    }
   ],
   "source": [
    "trans_df= pd.DataFrame(trans)\n",
    "trans_df"
   ]
  },
  {
   "cell_type": "code",
   "execution_count": null,
   "id": "a53360ca",
   "metadata": {},
   "outputs": [],
   "source": []
  },
  {
   "cell_type": "code",
   "execution_count": null,
   "id": "543fa998",
   "metadata": {},
   "outputs": [],
   "source": []
  },
  {
   "cell_type": "code",
   "execution_count": 183,
   "id": "e843bbf8",
   "metadata": {},
   "outputs": [],
   "source": [
    "x = trans_df.iloc[:, :-1]\n",
    "y = trans_df.iloc[:, -1]"
   ]
  },
  {
   "cell_type": "code",
   "execution_count": 184,
   "id": "fa72760a",
   "metadata": {},
   "outputs": [],
   "source": [
    "x_train, x_test, y_train, y_test= train_test_split(x, y, test_size = .2)"
   ]
  },
  {
   "cell_type": "code",
   "execution_count": 185,
   "id": "565c426a",
   "metadata": {},
   "outputs": [
    {
     "data": {
      "text/plain": [
       "array([-0.52320536,  0.11415376, -1.06932568, ..., -0.70012944,\n",
       "       -1.26471243, -0.02655873])"
      ]
     },
     "execution_count": 185,
     "metadata": {},
     "output_type": "execute_result"
    }
   ],
   "source": [
    "#building our model\n",
    "linear_model = LinearRegression()\n",
    "linear_model.fit(x_train, y_train)\n",
    "\n",
    "target = linear_model.predict(x_test)\n",
    "target"
   ]
  },
  {
   "cell_type": "code",
   "execution_count": 186,
   "id": "38580971",
   "metadata": {},
   "outputs": [
    {
     "name": "stdout",
     "output_type": "stream",
     "text": [
      "0.2638135902631346\n",
      "0.7189557342393618\n"
     ]
    }
   ],
   "source": [
    "print(mean_squared_error(y_test, target))\n",
    "\n",
    "print(metrics.r2_score(y_test, target))"
   ]
  },
  {
   "cell_type": "markdown",
   "id": "b3841aaa",
   "metadata": {},
   "source": [
    "# Simple Linear Regression section"
   ]
  },
  {
   "cell_type": "code",
   "execution_count": 214,
   "id": "966a8dc0",
   "metadata": {},
   "outputs": [],
   "source": [
    "#using the \"sqft_living\" to predict price\n",
    "\n",
    "x_sqft_liv = trans_df.iloc[:, 2]# picking all the rows and index 2\n",
    "y_sqft_liv = trans_df.iloc[:, -1] # picking all the rows and column on index -1"
   ]
  },
  {
   "cell_type": "code",
   "execution_count": 215,
   "id": "77531d43",
   "metadata": {},
   "outputs": [],
   "source": [
    "x_train_liv, x_test_liv, y_train_liv, y_test_liv = train_test_split(x_sqft_liv, y_sqft_liv, test_size = .2)"
   ]
  },
  {
   "cell_type": "code",
   "execution_count": 216,
   "id": "65f60679",
   "metadata": {},
   "outputs": [],
   "source": [
    "x_train_liv = np.array(x_train).reshape(-1,1)\n",
    "x_test_liv = np.array(x_test).reshape(-1,1)"
   ]
  },
  {
   "cell_type": "code",
   "execution_count": 217,
   "id": "0e2a13d7",
   "metadata": {},
   "outputs": [],
   "source": [
    "#building our model - Simple Linear Regression model btw sqft_\n",
    "\n",
    "Ken = LinearRegression()\n",
    "Ken.fit(x_train, y_train)\n",
    "\n",
    "target = Ken.predict(x_test)"
   ]
  },
  {
   "cell_type": "code",
   "execution_count": 218,
   "id": "2b5ec655",
   "metadata": {},
   "outputs": [
    {
     "name": "stdout",
     "output_type": "stream",
     "text": [
      "MSE: 1.884648627822873\n",
      "R squared: -0.6236480840896081\n"
     ]
    }
   ],
   "source": [
    "print(\"MSE:\", mean_squared_error (y_test_liv, target))\n",
    "print(\"R squared:\", metrics.r2_score(y_test_liv, target)) "
   ]
  },
  {
   "cell_type": "code",
   "execution_count": 219,
   "id": "5e40a870",
   "metadata": {},
   "outputs": [],
   "source": [
    "#using the \"sqft_lot\" to predict price\n",
    "x_sqft_lot = trans_df.iloc[:, 3]\n",
    "y_sqft_lot = trans_df.iloc[:, -1]"
   ]
  },
  {
   "cell_type": "code",
   "execution_count": 220,
   "id": "1414d91f",
   "metadata": {},
   "outputs": [],
   "source": [
    "x_train_lot, x_test_lot, y_train_lot, y_test_lot= train_test_split(x_sqft_lot, y_sqft_lot, test_size = .2)"
   ]
  },
  {
   "cell_type": "code",
   "execution_count": 221,
   "id": "18129bf7",
   "metadata": {},
   "outputs": [],
   "source": [
    "x_train_lot = np.array(x_train_lot).reshape(-1,1)\n",
    "x_test_lot = np.array(x_test_lot).reshape(-1,1)"
   ]
  },
  {
   "cell_type": "code",
   "execution_count": 222,
   "id": "f1d5e82f",
   "metadata": {},
   "outputs": [],
   "source": [
    "Ken = LinearRegression()\n",
    "Ken.fit(x_train_lot, y_train_lot)\n",
    "\n",
    "target = Ken.predict(x_test_lot)"
   ]
  },
  {
   "cell_type": "code",
   "execution_count": 223,
   "id": "32e6fc86",
   "metadata": {},
   "outputs": [
    {
     "name": "stdout",
     "output_type": "stream",
     "text": [
      "MSE: 0.9881153719995245\n",
      "R squared: 0.008938112233254358\n"
     ]
    }
   ],
   "source": [
    "print(\"MSE:\", mean_squared_error (y_test_lot, target))\n",
    "print(\"R squared:\", metrics.r2_score(y_test_lot, target)) "
   ]
  },
  {
   "cell_type": "code",
   "execution_count": 224,
   "id": "dac88550",
   "metadata": {},
   "outputs": [],
   "source": [
    "#using the \"floors\" to predict price\n",
    "\n",
    "x_floor = trans_df.iloc[:, 4]\n",
    "y_floor = trans_df.iloc[:, -1]"
   ]
  },
  {
   "cell_type": "code",
   "execution_count": null,
   "id": "cfe0ec0c",
   "metadata": {},
   "outputs": [],
   "source": []
  },
  {
   "cell_type": "markdown",
   "id": "06124664",
   "metadata": {},
   "source": [
    "# Building Model for Linear Regression"
   ]
  },
  {
   "cell_type": "code",
   "execution_count": 235,
   "id": "cde058d7",
   "metadata": {},
   "outputs": [
    {
     "name": "stdout",
     "output_type": "stream",
     "text": [
      "MSE: 0.9438019080715437\n",
      "R squared: 0.07159767244800763\n"
     ]
    }
   ],
   "source": [
    "# using the \"floors\" to predict price\n",
    "\n",
    "x_floors = trans_df.iloc[:, 4]\n",
    "y_floors = trans_df.iloc[:, -1]\n",
    "\n",
    "x_train_floors, x_test_floors, y_train_floors, y_test_floors= train_test_split(x_floors, y_floors, test_size = .2)\n",
    "\n",
    "x_train_floors = np.array(x_train_floors).reshape(-1,1)\n",
    "x_test_floors = np.array(x_test_floors).reshape(-1,1)\n",
    "y_train_floors = np.array(y_train_floors).reshape(-1,1)\n",
    "y_test_floors =  np.array(y_test_floors).reshape(-1,1)\n",
    "\n",
    "Ken = LinearRegression()\n",
    "Ken.fit(x_train_floors, y_train_floors)\n",
    "\n",
    "target = Ken.predict(x_test_floors)\n",
    "\n",
    "print(\"MSE:\", mean_squared_error (y_test_floors, target))\n",
    "print(\"R squared:\", metrics.r2_score(y_test_floors, target))"
   ]
  },
  {
   "cell_type": "code",
   "execution_count": 226,
   "id": "4c442fb1",
   "metadata": {},
   "outputs": [],
   "source": [
    "sc =StandardScaler()"
   ]
  },
  {
   "cell_type": "code",
   "execution_count": 227,
   "id": "f481f0ce",
   "metadata": {},
   "outputs": [],
   "source": [
    "x_train_floors=sc.fit_transform(x_train_floors)\n",
    "y_train_floors=sc.fit_transform(y_train_floors)"
   ]
  },
  {
   "cell_type": "code",
   "execution_count": 228,
   "id": "f319311f",
   "metadata": {},
   "outputs": [],
   "source": [
    "lin_reg=LinearRegression()"
   ]
  },
  {
   "cell_type": "code",
   "execution_count": 229,
   "id": "d5023c85",
   "metadata": {},
   "outputs": [
    {
     "data": {
      "text/plain": [
       "LinearRegression()"
      ]
     },
     "execution_count": 229,
     "metadata": {},
     "output_type": "execute_result"
    }
   ],
   "source": [
    "lin_reg.fit(x_train_floors, y_train_floors)"
   ]
  },
  {
   "cell_type": "code",
   "execution_count": 230,
   "id": "8456b74f",
   "metadata": {},
   "outputs": [
    {
     "name": "stdout",
     "output_type": "stream",
     "text": [
      "Intercept constant for our linear model: [-7.42962011e-19]\n",
      "coefficient of x for our linear model: [[0.25830438]]\n"
     ]
    }
   ],
   "source": [
    "print(\"Intercept constant for our linear model:\", lin_reg.intercept_)\n",
    "print(\"coefficient of x for our linear model:\", lin_reg.coef_)"
   ]
  },
  {
   "cell_type": "code",
   "execution_count": 232,
   "id": "31bd25ae",
   "metadata": {},
   "outputs": [],
   "source": [
    "y_predict = lin_reg.predict(x_train_floors)"
   ]
  },
  {
   "cell_type": "code",
   "execution_count": 233,
   "id": "4f21c076",
   "metadata": {},
   "outputs": [
    {
     "data": {
      "image/png": "[encoded data removed]",
      "text/plain": [
       "<Figure size 432x288 with 1 Axes>"
      ]
     },
     "metadata": {
      "needs_background": "light"
     },
     "output_type": "display_data"
    }
   ],
   "source": [
    "plt.scatter(x_train_floors, y_train_floors, color = \"red\")\n",
    "plt.plot(x_train_floors, y_predict, color = \"blue\")\n",
    "plt.title(\"Truth or Bluff(Linear Regression)\")\n",
    "plt.xlabel(\"floors\")\n",
    "plt.ylabel(\"price\")\n",
    "plt.show()"
   ]
  },
  {
   "cell_type": "code",
   "execution_count": null,
   "id": "432927b1",
   "metadata": {},
   "outputs": [],
   "source": []
  },
  {
   "cell_type": "code",
   "execution_count": 132,
   "id": "91fa0537",
   "metadata": {},
   "outputs": [
    {
     "name": "stdout",
     "output_type": "stream",
     "text": [
      "MSE: 0.9861672148599929\n",
      "R squared: -0.0011506788006589996\n"
     ]
    }
   ],
   "source": [
    "#using the \"condition\" to predict price\n",
    "\n",
    "x_condition = trans_df.iloc[:, 7]\n",
    "y_condition = trans_df.iloc[:, -1]\n",
    "\n",
    "x_train_condition, x_test_condition, y_train_condition, y_test_condition = train_test_split(x_condition, y_condition, test_size = .2)\n",
    "\n",
    "x_train_condition = np.array(x_train_condition).reshape(-1,1)\n",
    "x_test_condition = np.array(x_test_condition).reshape(-1,1)\n",
    "\n",
    "Ken = LinearRegression()\n",
    "Ken.fit(x_train_condition, y_train_condition)\n",
    "\n",
    "target = Ken.predict(x_test_condition)\n",
    "\n",
    "print(\"MSE:\", mean_squared_error (y_test_condition, target))\n",
    "print(\"R squared:\", metrics.r2_score(y_test_condition, target)) "
   ]
  },
  {
   "cell_type": "code",
   "execution_count": null,
   "id": "3cd789fc",
   "metadata": {},
   "outputs": [],
   "source": []
  },
  {
   "cell_type": "code",
   "execution_count": null,
   "id": "fc681d93",
   "metadata": {},
   "outputs": [],
   "source": []
  },
  {
   "cell_type": "code",
   "execution_count": null,
   "id": "93215367",
   "metadata": {},
   "outputs": [],
   "source": []
  },
  {
   "cell_type": "code",
   "execution_count": 133,
   "id": "5123f27d",
   "metadata": {},
   "outputs": [
    {
     "name": "stdout",
     "output_type": "stream",
     "text": [
      "MSE: 0.5265647328244067\n",
      "R squared: 0.43276087804883634\n"
     ]
    }
   ],
   "source": [
    "#using the \"grade\" to predict price\n",
    "\n",
    "x_grade = trans_df.iloc[:, 8]\n",
    "y_grade = trans_df.iloc[:, -1]\n",
    "\n",
    "x_train_grade, x_test_grade, y_train_grade, y_test_grade = train_test_split(x_grade, y_grade, test_size = .2)\n",
    "\n",
    "x_train_grade = np.array(x_train_grade).reshape(-1,1)\n",
    "x_test_grade = np.array(x_test_grade).reshape(-1,1)\n",
    "\n",
    "Ken = LinearRegression()\n",
    "Ken.fit(x_train_grade, y_train_grade)\n",
    "\n",
    "target = Ken.predict(x_test_grade)\n",
    "\n",
    "print(\"MSE:\", mean_squared_error (y_test_grade, target))\n",
    "print(\"R squared:\", metrics.r2_score(y_test_grade, target)) "
   ]
  },
  {
   "cell_type": "code",
   "execution_count": 134,
   "id": "11278977",
   "metadata": {},
   "outputs": [
    {
     "name": "stdout",
     "output_type": "stream",
     "text": [
      "MSE: 0.610156855454685\n",
      "R squared: 0.3783333095275633\n"
     ]
    }
   ],
   "source": [
    "#using the \"sqft_above\" to predict price\n",
    "\n",
    "x_sqft_above = trans_df.iloc[:, 9]\n",
    "y_sqft_above = trans_df.iloc[:, -1]\n",
    "\n",
    "x_train_sqft_above, x_test_sqft_above, y_train_sqft_above, y_test_sqft_above = train_test_split(x_sqft_above, y_sqft_above, test_size = .2)\n",
    "\n",
    "x_train_sqft_above = np.array(x_train_sqft_above).reshape(-1,1)\n",
    "x_test_sqft_above = np.array(x_test_sqft_above).reshape(-1,1)\n",
    "\n",
    "Ken = LinearRegression()\n",
    "Ken.fit(x_train_sqft_above, y_train_sqft_above)\n",
    "\n",
    "target = Ken.predict(x_test_sqft_above)\n",
    "\n",
    "print(\"MSE:\", mean_squared_error (y_test_sqft_above, target))\n",
    "print(\"R squared:\", metrics.r2_score(y_test_sqft_above, target)) "
   ]
  },
  {
   "cell_type": "code",
   "execution_count": 135,
   "id": "4e91c93f",
   "metadata": {},
   "outputs": [
    {
     "data": {
      "text/plain": [
       "0       -0.915427\n",
       "1        0.936506\n",
       "2       -0.915427\n",
       "3       -0.915427\n",
       "4       -0.915427\n",
       "           ...   \n",
       "21608    2.788439\n",
       "21609    0.936506\n",
       "21610    0.936506\n",
       "21611    0.936506\n",
       "21612    0.936506\n",
       "Name: 4, Length: 21613, dtype: float64"
      ]
     },
     "execution_count": 135,
     "metadata": {},
     "output_type": "execute_result"
    }
   ],
   "source": [
    "x_floors"
   ]
  },
  {
   "cell_type": "code",
   "execution_count": 136,
   "id": "3c3fba17",
   "metadata": {},
   "outputs": [
    {
     "data": {
      "text/plain": [
       "0       -0.866717\n",
       "1       -0.005688\n",
       "2       -0.980849\n",
       "3        0.174090\n",
       "4       -0.081958\n",
       "           ...   \n",
       "21608   -0.490545\n",
       "21609   -0.381588\n",
       "21610   -0.375865\n",
       "21611   -0.381588\n",
       "21612   -0.585882\n",
       "Name: 16, Length: 21613, dtype: float64"
      ]
     },
     "execution_count": 136,
     "metadata": {},
     "output_type": "execute_result"
    }
   ],
   "source": [
    "y_floors"
   ]
  },
  {
   "cell_type": "code",
   "execution_count": 137,
   "id": "a60f892f",
   "metadata": {},
   "outputs": [],
   "source": [
    "x_train_floors, x_test_floors, y_train_floors, y_test_floors  = train_test_split(x_floors, y_floors, test_size = .2)"
   ]
  },
  {
   "cell_type": "code",
   "execution_count": 138,
   "id": "62e12a3e",
   "metadata": {},
   "outputs": [],
   "source": [
    "x_train_floors = np.array(x_train_floors).reshape(-1, 1)\n",
    "x_test_floors = np.array(x_test_floors).reshape(-1, 1)"
   ]
  },
  {
   "cell_type": "code",
   "execution_count": null,
   "id": "259f0a20",
   "metadata": {},
   "outputs": [],
   "source": []
  },
  {
   "cell_type": "code",
   "execution_count": 139,
   "id": "39a41d76",
   "metadata": {},
   "outputs": [],
   "source": [
    "floors = LinearRegression()\n",
    "floors.fit(x_train_floors, y_train_floors)\n",
    "target = floors.predict(x_test_floors)"
   ]
  },
  {
   "cell_type": "code",
   "execution_count": 140,
   "id": "277e6a5c",
   "metadata": {},
   "outputs": [
    {
     "data": {
      "text/plain": [
       "array([ 2.35935224e-01,  2.35935224e-01,  2.35935224e-01, ...,\n",
       "        9.36869490e-05, -2.35747850e-01, -2.35747850e-01])"
      ]
     },
     "execution_count": 140,
     "metadata": {},
     "output_type": "execute_result"
    }
   ],
   "source": [
    "target"
   ]
  },
  {
   "cell_type": "code",
   "execution_count": 141,
   "id": "6e334cdb",
   "metadata": {},
   "outputs": [
    {
     "name": "stdout",
     "output_type": "stream",
     "text": [
      "MSE: 1.1070195536359033\n",
      "R squared: 0.060269990061821876\n"
     ]
    }
   ],
   "source": [
    "print(\"MSE:\", mean_squared_error(y_test_floors, target))\n",
    "      \n",
    "print(\"R squared:\", metrics.r2_score(y_test_floors, target))"
   ]
  },
  {
   "cell_type": "code",
   "execution_count": 142,
   "id": "98f37953",
   "metadata": {},
   "outputs": [
    {
     "name": "stdout",
     "output_type": "stream",
     "text": [
      "MSE: 1.0863206459842323\n",
      "R squared: 0.000738727361849767\n"
     ]
    }
   ],
   "source": [
    "#using \"yr_renovated\" to predict price\n",
    "x_yr_ren = trans_df.iloc[:, 11] #picking all the rows and index 2\n",
    "y_yr_ren = trans_df.iloc[:, -1] #picking all the rows and column on index -1\n",
    "x_train_yr_ren, x_test_yr_ren, y_train_yr_ren, y_test_yr_ren = train_test_split(x_yr_ren, y_yr_ren, test_size = .2)\n",
    "x_train_yr_ren = np.array(x_train_yr_ren).reshape(-1,1)\n",
    "x_test_yr_ren = np.array(x_test_yr_ren).reshape(-1,1)\n",
    "\n",
    "\n",
    "yr_ren = LinearRegression()\n",
    "yr_ren.fit(x_train_yr_ren, y_train_yr_ren)\n",
    "\n",
    "target = yr_ren.predict(x_test_yr_ren)\n",
    "\n",
    "print(\"MSE:\", mean_squared_error(y_test_yr_ren, target))\n",
    "\n",
    "print(\"R squared:\", metrics.r2_score(y_test_yr_ren, target))\n",
    "\n",
    "\n",
    "\n",
    "\n",
    "\n"
   ]
  },
  {
   "cell_type": "code",
   "execution_count": 143,
   "id": "397c3f67",
   "metadata": {},
   "outputs": [
    {
     "name": "stdout",
     "output_type": "stream",
     "text": [
      "MSE: 0.9067400668349543\n",
      "R squared: 0.09153056896473233\n"
     ]
    }
   ],
   "source": [
    "#using \"yr_built\" to predict price\n",
    "x_yr_built = trans_df.iloc[:, 10] #picking all the rows and index 2\n",
    "y_yr_built = trans_df.iloc[:, -1] #picking all the rows and column on index -1\n",
    "x_train_yr_built, x_test_yr_built, y_train_yr_built, y_test_yr_built = train_test_split(x_yr_built, y_yr_built, test_size = .2)\n",
    "x_train_yr_built = np.array(x_train_yr_built).reshape(-1,1)\n",
    "x_test_yr_built = np.array(x_test_yr_built).reshape(-1,1)\n",
    "\n",
    "\n",
    "yr_built = LinearRegression()\n",
    "yr_built.fit(x_train_yr_built, y_train_yr_built)\n",
    "\n",
    "target = yr_built.predict(x_test_yr_built)\n",
    "\n",
    "print(\"MSE:\", mean_squared_error(y_test_yr_built, target))\n",
    "\n",
    "print(\"R squared:\", metrics.r2_score(y_test_yr_built, target))\n"
   ]
  },
  {
   "cell_type": "code",
   "execution_count": 144,
   "id": "96349abe",
   "metadata": {},
   "outputs": [
    {
     "name": "stdout",
     "output_type": "stream",
     "text": [
      "MSE: 0.9843226602519145\n",
      "R squared: -0.001151380882594033\n"
     ]
    }
   ],
   "source": [
    "#using \"lat\" to predict price\n",
    "x_yr_lat = trans_df.iloc[:, 11] #picking all the rows and index 2\n",
    "y_yr_lat = trans_df.iloc[:, -1] #picking all the rows and column on index -1\n",
    "x_train_yr_lat, x_test_yr_lat, y_train_yr_lat, y_test_yr_lat = train_test_split(x_yr_lat, y_yr_lat, test_size = .2)\n",
    "x_train_yr_lat = np.array(x_train_yr_lat).reshape(-1,1)\n",
    "x_test_yr_lat = np.array(x_test_yr_lat).reshape(-1,1)\n",
    "\n",
    "\n",
    "yr_lat = LinearRegression()\n",
    "yr_lat.fit(x_train_yr_lat, y_train_yr_lat)\n",
    "\n",
    "target = yr_lat.predict(x_test_yr_lat)\n",
    "\n",
    "print(\"MSE:\", mean_squared_error(y_test_yr_lat, target))\n",
    "\n",
    "print(\"R squared:\", metrics.r2_score(y_test_yr_lat, target))\n"
   ]
  },
  {
   "cell_type": "markdown",
   "id": "cf8b062c",
   "metadata": {},
   "source": [
    "# Polynomial Regression"
   ]
  },
  {
   "cell_type": "code",
   "execution_count": 145,
   "id": "ae6b82eb",
   "metadata": {},
   "outputs": [],
   "source": [
    "#initiate the polynomial object from the preprocessing library\n",
    "\n",
    "from sklearn.preprocessing import PolynomialFeatures\n",
    "poly = PolynomialFeatures(degree = 4)"
   ]
  },
  {
   "cell_type": "code",
   "execution_count": 146,
   "id": "7ea0ec4d",
   "metadata": {},
   "outputs": [
    {
     "data": {
      "text/plain": [
       "LinearRegression()"
      ]
     },
     "execution_count": 146,
     "metadata": {},
     "output_type": "execute_result"
    }
   ],
   "source": [
    "x_poly = poly.fit_transform(x_test_yr_lat)\n",
    "lin_reg_2 = LinearRegression()\n",
    "lin_reg_2.fit(x_poly, y_test_yr_lat)"
   ]
  },
  {
   "cell_type": "code",
   "execution_count": 147,
   "id": "f1d3a0ea",
   "metadata": {},
   "outputs": [
    {
     "data": {
      "text/plain": [
       "array([-0.22623328,  0.19083091, -0.191579  , ..., -0.10356176,\n",
       "        0.07978382,  0.15921819])"
      ]
     },
     "execution_count": 147,
     "metadata": {},
     "output_type": "execute_result"
    }
   ],
   "source": [
    "x_poly_pred = lin_reg_2.predict(x_poly)\n",
    "x_poly_pred"
   ]
  },
  {
   "cell_type": "code",
   "execution_count": 148,
   "id": "c5fcc82c",
   "metadata": {},
   "outputs": [
    {
     "data": {
      "image/png": "[encoded data removed]",
      "text/plain": [
       "<Figure size 432x288 with 1 Axes>"
      ]
     },
     "metadata": {
      "needs_background": "light"
     },
     "output_type": "display_data"
    }
   ],
   "source": [
    "plt.scatter(x_test_yr_lat, y_test_yr_lat, color = \"red\")\n",
    "plt.plot(x_test_yr_lat, x_poly_pred, color = \"blue\")\n",
    "plt.title(\"Truth or Bluff(Polynomial Regression)\")\n",
    "plt.xlabel(\"yr_lat\")\n",
    "plt.ylabel(\"price\")\n",
    "plt.show()"
   ]
  },
  {
   "cell_type": "markdown",
   "id": "7a2f0674",
   "metadata": {},
   "source": [
    "# I realized that both Polynomial and Linear reagressions can not be used for scatter plot."
   ]
  },
  {
   "cell_type": "code",
   "execution_count": null,
   "id": "34e08491",
   "metadata": {},
   "outputs": [],
   "source": []
  },
  {
   "cell_type": "code",
   "execution_count": null,
   "id": "cfefbbcd",
   "metadata": {},
   "outputs": [],
   "source": []
  }
 ],
 "metadata": {
  "kernelspec": {
   "display_name": "Python 3",
   "language": "python",
   "name": "python3"
  },
  "language_info": {
   "codemirror_mode": {
    "name": "ipython",
    "version": 3
   },
   "file_extension": ".py",
   "mimetype": "text/x-python",
   "name": "python",
   "nbconvert_exporter": "python",
   "pygments_lexer": "ipython3",
   "version": "3.8.8"
  }
 },
 "nbformat": 4,
 "nbformat_minor": 5
}
